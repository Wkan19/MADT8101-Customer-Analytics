{
  "nbformat": 4,
  "nbformat_minor": 0,
  "metadata": {
    "colab": {
      "provenance": []
    },
    "kernelspec": {
      "name": "python3",
      "display_name": "Python 3"
    },
    "language_info": {
      "name": "python"
    }
  },
  "cells": [
    {
      "cell_type": "code",
      "execution_count": null,
      "metadata": {
        "id": "nVPTRIVhmF9D"
      },
      "outputs": [],
      "source": [
        "import pandas as pd\n",
        "\n",
        "# Load the dataset\n",
        "data = pd.read_csv(\"GitHub Generate Hotel Booking.csv\")"
      ]
    },
    {
      "cell_type": "code",
      "source": [
        "data.head()"
      ],
      "metadata": {
        "id": "LraZ2e4woHMR"
      },
      "execution_count": null,
      "outputs": []
    },
    {
      "cell_type": "code",
      "source": [
        "data.tail()"
      ],
      "metadata": {
        "id": "BnOg257yoMb6"
      },
      "execution_count": null,
      "outputs": []
    },
    {
      "cell_type": "code",
      "source": [
        "data.info()"
      ],
      "metadata": {
        "id": "X8qEu-adoShj"
      },
      "execution_count": null,
      "outputs": []
    },
    {
      "cell_type": "code",
      "source": [
        "data['Room Revenue'] = pd.to_numeric(data['Room Revenue'], errors='coerce')\n",
        "data['Service Revenue'] = pd.to_numeric(data['Service Revenue'], errors='coerce')\n",
        "\n",
        "# Group data by 'Guest Name'\n",
        "customer_data = data.groupby('Guest Name').agg(\n",
        "    {\n",
        "        'Room Revenue': 'mean',\n",
        "        'Service Revenue': 'mean',\n",
        "        'Stay Month': 'nunique',\n",
        "        '# of night': 'mean'\n",
        "    }\n",
        ").reset_index()"
      ],
      "metadata": {
        "id": "Ds0N0IREo1T7"
      },
      "execution_count": null,
      "outputs": []
    },
    {
      "cell_type": "code",
      "source": [
        "# Calculate average transaction amount per stay\n",
        "customer_data['Average Transaction Amount per Stay'] = (\n",
        "    customer_data['Room Revenue'] + customer_data['Service Revenue']\n",
        ")\n",
        "\n",
        "# Calculate average number of stays per year\n",
        "# Assuming 12 months in a year\n",
        "customer_data['Average Number of Stays per Year'] = (\n",
        "    customer_data['Stay Month'] / 12\n",
        ")\n",
        "\n",
        "# Calculate average length of stay\n",
        "customer_data['Average Length of Stay'] = customer_data['# of night']\n",
        "\n",
        "# Calculate average spending on additional services per stay\n",
        "customer_data['Average Spending on Additional Services per Stay'] = (\n",
        "    customer_data['Service Revenue']\n",
        ")\n",
        "\n",
        "# Calculate Customer Acquisition Cost as 20% of the average room revenue\n",
        "customer_data['Customer Acquisition Cost'] = (\n",
        "    0.20 * customer_data['Room Revenue']\n",
        ")"
      ],
      "metadata": {
        "id": "YzGbhObgo64x"
      },
      "execution_count": null,
      "outputs": []
    },
    {
      "cell_type": "code",
      "source": [
        "# Calculate CLTV\n",
        "customer_data['CLTV'] = (\n",
        "    (customer_data['Average Transaction Amount per Stay'] *\n",
        "     customer_data['Average Number of Stays per Year'] *\n",
        "     customer_data['Average Length of Stay']) +\n",
        "    (customer_data['Average Spending on Additional Services per Stay'] *\n",
        "     customer_data['Average Number of Stays per Year'] *\n",
        "     customer_data['Average Length of Stay']) -\n",
        "    customer_data['Customer Acquisition Cost']\n",
        ")\n",
        "\n",
        "print(customer_data[['Guest Name', 'CLTV']])"
      ],
      "metadata": {
        "colab": {
          "base_uri": "https://localhost:8080/"
        },
        "id": "NTdvyq3_pCWe",
        "outputId": "7a766ce3-1848-4598-ab71-51c6895b5576"
      },
      "execution_count": null,
      "outputs": [
        {
          "output_type": "stream",
          "name": "stdout",
          "text": [
            "      Guest Name         CLTV\n",
            "0      David Kim  1470.000000\n",
            "1     Emily Chen   -17.666667\n",
            "2     John Smith   487.777778\n",
            "3   Maria Garcia   646.666667\n",
            "4  Sarah Johnson    73.333333\n"
          ]
        }
      ]
    },
    {
      "cell_type": "code",
      "source": [],
      "metadata": {
        "id": "l7wcBHhdsq8p"
      },
      "execution_count": null,
      "outputs": []
    }
  ]
}