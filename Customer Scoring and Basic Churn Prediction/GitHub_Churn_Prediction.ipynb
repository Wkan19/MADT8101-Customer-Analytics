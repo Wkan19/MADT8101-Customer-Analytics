{
  "nbformat": 4,
  "nbformat_minor": 0,
  "metadata": {
    "colab": {
      "provenance": [],
      "collapsed_sections": [
        "pFF8tqNZY2Wd",
        "9zwxuWqFBEFy",
        "YkNQyTTEcVpR",
        "W-JJ1OlzpVEd",
        "lFBrJlSiqaOj",
        "im8ceM2rqdS7",
        "xwAh296Cqe_t"
      ]
    },
    "kernelspec": {
      "name": "python3",
      "display_name": "Python 3"
    },
    "language_info": {
      "name": "python"
    }
  },
  "cells": [
    {
      "cell_type": "markdown",
      "source": [
        "# Load libraries and data"
      ],
      "metadata": {
        "id": "_ezPXy8K6bUr"
      }
    },
    {
      "cell_type": "code",
      "source": [
        "## Import Libraries\n",
        "import numpy as np\n",
        "import pandas as pd\n",
        "\n",
        "import matplotlib.pyplot as plt\n",
        "import seaborn as sns\n",
        "sns.set()"
      ],
      "metadata": {
        "id": "o6EHhJuC6jyr"
      },
      "execution_count": null,
      "outputs": []
    },
    {
      "cell_type": "code",
      "source": [
        "## Import Data\n",
        "df = pd.read_csv(\"EcommerceCust.csv\")"
      ],
      "metadata": {
        "id": "8JwKpNU16nRs"
      },
      "execution_count": null,
      "outputs": []
    },
    {
      "cell_type": "markdown",
      "source": [
        "# Explore Data"
      ],
      "metadata": {
        "id": "09uf6yXDXGXx"
      }
    },
    {
      "cell_type": "code",
      "source": [
        "## Explore Data\n",
        "df.head()"
      ],
      "metadata": {
        "colab": {
          "base_uri": "https://localhost:8080/",
          "height": 260
        },
        "id": "THXJyouXWk9c",
        "outputId": "28710fec-d7e3-459c-aa13-5e2a69c44067"
      },
      "execution_count": null,
      "outputs": [
        {
          "output_type": "execute_result",
          "data": {
            "text/plain": [
              "   CustomerID  Churn  Tenure PreferredLoginDevice  CityTier  WarehouseToHome  \\\n",
              "0       50001      1     4.0         Mobile Phone         3              6.0   \n",
              "1       50002      1     NaN                Phone         1              8.0   \n",
              "2       50003      1     NaN                Phone         1             30.0   \n",
              "3       50004      1     0.0                Phone         3             15.0   \n",
              "4       50005      1     0.0                Phone         1             12.0   \n",
              "\n",
              "  PreferredPaymentMode  Gender  HourSpendOnApp  NumberOfDeviceRegistered  \\\n",
              "0           Debit Card  Female             3.0                         3   \n",
              "1                  UPI    Male             3.0                         4   \n",
              "2           Debit Card    Male             2.0                         4   \n",
              "3           Debit Card    Male             2.0                         4   \n",
              "4                   CC    Male             NaN                         3   \n",
              "\n",
              "     PreferedOrderCat  SatisfactionScore MaritalStatus  NumberOfAddress  \\\n",
              "0  Laptop & Accessory                  2        Single                9   \n",
              "1              Mobile                  3        Single                7   \n",
              "2              Mobile                  3        Single                6   \n",
              "3  Laptop & Accessory                  5        Single                8   \n",
              "4              Mobile                  5        Single                3   \n",
              "\n",
              "   Complain  OrderAmountHikeFromlastYear  CouponUsed  OrderCount  \\\n",
              "0         1                         11.0         1.0         1.0   \n",
              "1         1                         15.0         0.0         1.0   \n",
              "2         1                         14.0         0.0         1.0   \n",
              "3         0                         23.0         0.0         1.0   \n",
              "4         0                         11.0         1.0         1.0   \n",
              "\n",
              "   DaySinceLastOrder  CashbackAmount  \n",
              "0                5.0             160  \n",
              "1                0.0             121  \n",
              "2                3.0             120  \n",
              "3                3.0             134  \n",
              "4                3.0             130  "
            ],
            "text/html": [
              "\n",
              "  <div id=\"df-92ed5b77-befe-4aae-8265-1c6bb113d3f6\" class=\"colab-df-container\">\n",
              "    <div>\n",
              "<style scoped>\n",
              "    .dataframe tbody tr th:only-of-type {\n",
              "        vertical-align: middle;\n",
              "    }\n",
              "\n",
              "    .dataframe tbody tr th {\n",
              "        vertical-align: top;\n",
              "    }\n",
              "\n",
              "    .dataframe thead th {\n",
              "        text-align: right;\n",
              "    }\n",
              "</style>\n",
              "<table border=\"1\" class=\"dataframe\">\n",
              "  <thead>\n",
              "    <tr style=\"text-align: right;\">\n",
              "      <th></th>\n",
              "      <th>CustomerID</th>\n",
              "      <th>Churn</th>\n",
              "      <th>Tenure</th>\n",
              "      <th>PreferredLoginDevice</th>\n",
              "      <th>CityTier</th>\n",
              "      <th>WarehouseToHome</th>\n",
              "      <th>PreferredPaymentMode</th>\n",
              "      <th>Gender</th>\n",
              "      <th>HourSpendOnApp</th>\n",
              "      <th>NumberOfDeviceRegistered</th>\n",
              "      <th>PreferedOrderCat</th>\n",
              "      <th>SatisfactionScore</th>\n",
              "      <th>MaritalStatus</th>\n",
              "      <th>NumberOfAddress</th>\n",
              "      <th>Complain</th>\n",
              "      <th>OrderAmountHikeFromlastYear</th>\n",
              "      <th>CouponUsed</th>\n",
              "      <th>OrderCount</th>\n",
              "      <th>DaySinceLastOrder</th>\n",
              "      <th>CashbackAmount</th>\n",
              "    </tr>\n",
              "  </thead>\n",
              "  <tbody>\n",
              "    <tr>\n",
              "      <th>0</th>\n",
              "      <td>50001</td>\n",
              "      <td>1</td>\n",
              "      <td>4.0</td>\n",
              "      <td>Mobile Phone</td>\n",
              "      <td>3</td>\n",
              "      <td>6.0</td>\n",
              "      <td>Debit Card</td>\n",
              "      <td>Female</td>\n",
              "      <td>3.0</td>\n",
              "      <td>3</td>\n",
              "      <td>Laptop &amp; Accessory</td>\n",
              "      <td>2</td>\n",
              "      <td>Single</td>\n",
              "      <td>9</td>\n",
              "      <td>1</td>\n",
              "      <td>11.0</td>\n",
              "      <td>1.0</td>\n",
              "      <td>1.0</td>\n",
              "      <td>5.0</td>\n",
              "      <td>160</td>\n",
              "    </tr>\n",
              "    <tr>\n",
              "      <th>1</th>\n",
              "      <td>50002</td>\n",
              "      <td>1</td>\n",
              "      <td>NaN</td>\n",
              "      <td>Phone</td>\n",
              "      <td>1</td>\n",
              "      <td>8.0</td>\n",
              "      <td>UPI</td>\n",
              "      <td>Male</td>\n",
              "      <td>3.0</td>\n",
              "      <td>4</td>\n",
              "      <td>Mobile</td>\n",
              "      <td>3</td>\n",
              "      <td>Single</td>\n",
              "      <td>7</td>\n",
              "      <td>1</td>\n",
              "      <td>15.0</td>\n",
              "      <td>0.0</td>\n",
              "      <td>1.0</td>\n",
              "      <td>0.0</td>\n",
              "      <td>121</td>\n",
              "    </tr>\n",
              "    <tr>\n",
              "      <th>2</th>\n",
              "      <td>50003</td>\n",
              "      <td>1</td>\n",
              "      <td>NaN</td>\n",
              "      <td>Phone</td>\n",
              "      <td>1</td>\n",
              "      <td>30.0</td>\n",
              "      <td>Debit Card</td>\n",
              "      <td>Male</td>\n",
              "      <td>2.0</td>\n",
              "      <td>4</td>\n",
              "      <td>Mobile</td>\n",
              "      <td>3</td>\n",
              "      <td>Single</td>\n",
              "      <td>6</td>\n",
              "      <td>1</td>\n",
              "      <td>14.0</td>\n",
              "      <td>0.0</td>\n",
              "      <td>1.0</td>\n",
              "      <td>3.0</td>\n",
              "      <td>120</td>\n",
              "    </tr>\n",
              "    <tr>\n",
              "      <th>3</th>\n",
              "      <td>50004</td>\n",
              "      <td>1</td>\n",
              "      <td>0.0</td>\n",
              "      <td>Phone</td>\n",
              "      <td>3</td>\n",
              "      <td>15.0</td>\n",
              "      <td>Debit Card</td>\n",
              "      <td>Male</td>\n",
              "      <td>2.0</td>\n",
              "      <td>4</td>\n",
              "      <td>Laptop &amp; Accessory</td>\n",
              "      <td>5</td>\n",
              "      <td>Single</td>\n",
              "      <td>8</td>\n",
              "      <td>0</td>\n",
              "      <td>23.0</td>\n",
              "      <td>0.0</td>\n",
              "      <td>1.0</td>\n",
              "      <td>3.0</td>\n",
              "      <td>134</td>\n",
              "    </tr>\n",
              "    <tr>\n",
              "      <th>4</th>\n",
              "      <td>50005</td>\n",
              "      <td>1</td>\n",
              "      <td>0.0</td>\n",
              "      <td>Phone</td>\n",
              "      <td>1</td>\n",
              "      <td>12.0</td>\n",
              "      <td>CC</td>\n",
              "      <td>Male</td>\n",
              "      <td>NaN</td>\n",
              "      <td>3</td>\n",
              "      <td>Mobile</td>\n",
              "      <td>5</td>\n",
              "      <td>Single</td>\n",
              "      <td>3</td>\n",
              "      <td>0</td>\n",
              "      <td>11.0</td>\n",
              "      <td>1.0</td>\n",
              "      <td>1.0</td>\n",
              "      <td>3.0</td>\n",
              "      <td>130</td>\n",
              "    </tr>\n",
              "  </tbody>\n",
              "</table>\n",
              "</div>\n",
              "    <div class=\"colab-df-buttons\">\n",
              "\n",
              "  <div class=\"colab-df-container\">\n",
              "    <button class=\"colab-df-convert\" onclick=\"convertToInteractive('df-92ed5b77-befe-4aae-8265-1c6bb113d3f6')\"\n",
              "            title=\"Convert this dataframe to an interactive table.\"\n",
              "            style=\"display:none;\">\n",
              "\n",
              "  <svg xmlns=\"http://www.w3.org/2000/svg\" height=\"24px\" viewBox=\"0 -960 960 960\">\n",
              "    <path d=\"M120-120v-720h720v720H120Zm60-500h600v-160H180v160Zm220 220h160v-160H400v160Zm0 220h160v-160H400v160ZM180-400h160v-160H180v160Zm440 0h160v-160H620v160ZM180-180h160v-160H180v160Zm440 0h160v-160H620v160Z\"/>\n",
              "  </svg>\n",
              "    </button>\n",
              "\n",
              "  <style>\n",
              "    .colab-df-container {\n",
              "      display:flex;\n",
              "      gap: 12px;\n",
              "    }\n",
              "\n",
              "    .colab-df-convert {\n",
              "      background-color: #E8F0FE;\n",
              "      border: none;\n",
              "      border-radius: 50%;\n",
              "      cursor: pointer;\n",
              "      display: none;\n",
              "      fill: #1967D2;\n",
              "      height: 32px;\n",
              "      padding: 0 0 0 0;\n",
              "      width: 32px;\n",
              "    }\n",
              "\n",
              "    .colab-df-convert:hover {\n",
              "      background-color: #E2EBFA;\n",
              "      box-shadow: 0px 1px 2px rgba(60, 64, 67, 0.3), 0px 1px 3px 1px rgba(60, 64, 67, 0.15);\n",
              "      fill: #174EA6;\n",
              "    }\n",
              "\n",
              "    .colab-df-buttons div {\n",
              "      margin-bottom: 4px;\n",
              "    }\n",
              "\n",
              "    [theme=dark] .colab-df-convert {\n",
              "      background-color: #3B4455;\n",
              "      fill: #D2E3FC;\n",
              "    }\n",
              "\n",
              "    [theme=dark] .colab-df-convert:hover {\n",
              "      background-color: #434B5C;\n",
              "      box-shadow: 0px 1px 3px 1px rgba(0, 0, 0, 0.15);\n",
              "      filter: drop-shadow(0px 1px 2px rgba(0, 0, 0, 0.3));\n",
              "      fill: #FFFFFF;\n",
              "    }\n",
              "  </style>\n",
              "\n",
              "    <script>\n",
              "      const buttonEl =\n",
              "        document.querySelector('#df-92ed5b77-befe-4aae-8265-1c6bb113d3f6 button.colab-df-convert');\n",
              "      buttonEl.style.display =\n",
              "        google.colab.kernel.accessAllowed ? 'block' : 'none';\n",
              "\n",
              "      async function convertToInteractive(key) {\n",
              "        const element = document.querySelector('#df-92ed5b77-befe-4aae-8265-1c6bb113d3f6');\n",
              "        const dataTable =\n",
              "          await google.colab.kernel.invokeFunction('convertToInteractive',\n",
              "                                                    [key], {});\n",
              "        if (!dataTable) return;\n",
              "\n",
              "        const docLinkHtml = 'Like what you see? Visit the ' +\n",
              "          '<a target=\"_blank\" href=https://colab.research.google.com/notebooks/data_table.ipynb>data table notebook</a>'\n",
              "          + ' to learn more about interactive tables.';\n",
              "        element.innerHTML = '';\n",
              "        dataTable['output_type'] = 'display_data';\n",
              "        await google.colab.output.renderOutput(dataTable, element);\n",
              "        const docLink = document.createElement('div');\n",
              "        docLink.innerHTML = docLinkHtml;\n",
              "        element.appendChild(docLink);\n",
              "      }\n",
              "    </script>\n",
              "  </div>\n",
              "\n",
              "\n",
              "<div id=\"df-1cdac87a-d631-48d1-aa8b-0f5e317c52f7\">\n",
              "  <button class=\"colab-df-quickchart\" onclick=\"quickchart('df-1cdac87a-d631-48d1-aa8b-0f5e317c52f7')\"\n",
              "            title=\"Suggest charts.\"\n",
              "            style=\"display:none;\">\n",
              "\n",
              "<svg xmlns=\"http://www.w3.org/2000/svg\" height=\"24px\"viewBox=\"0 0 24 24\"\n",
              "     width=\"24px\">\n",
              "    <g>\n",
              "        <path d=\"M19 3H5c-1.1 0-2 .9-2 2v14c0 1.1.9 2 2 2h14c1.1 0 2-.9 2-2V5c0-1.1-.9-2-2-2zM9 17H7v-7h2v7zm4 0h-2V7h2v10zm4 0h-2v-4h2v4z\"/>\n",
              "    </g>\n",
              "</svg>\n",
              "  </button>\n",
              "\n",
              "<style>\n",
              "  .colab-df-quickchart {\n",
              "    background-color: #E8F0FE;\n",
              "    border: none;\n",
              "    border-radius: 50%;\n",
              "    cursor: pointer;\n",
              "    display: none;\n",
              "    fill: #1967D2;\n",
              "    height: 32px;\n",
              "    padding: 0 0 0 0;\n",
              "    width: 32px;\n",
              "  }\n",
              "\n",
              "  .colab-df-quickchart:hover {\n",
              "    background-color: #E2EBFA;\n",
              "    box-shadow: 0px 1px 2px rgba(60, 64, 67, 0.3), 0px 1px 3px 1px rgba(60, 64, 67, 0.15);\n",
              "    fill: #174EA6;\n",
              "  }\n",
              "\n",
              "  [theme=dark] .colab-df-quickchart {\n",
              "    background-color: #3B4455;\n",
              "    fill: #D2E3FC;\n",
              "  }\n",
              "\n",
              "  [theme=dark] .colab-df-quickchart:hover {\n",
              "    background-color: #434B5C;\n",
              "    box-shadow: 0px 1px 3px 1px rgba(0, 0, 0, 0.15);\n",
              "    filter: drop-shadow(0px 1px 2px rgba(0, 0, 0, 0.3));\n",
              "    fill: #FFFFFF;\n",
              "  }\n",
              "</style>\n",
              "\n",
              "  <script>\n",
              "    async function quickchart(key) {\n",
              "      const charts = await google.colab.kernel.invokeFunction(\n",
              "          'suggestCharts', [key], {});\n",
              "    }\n",
              "    (() => {\n",
              "      let quickchartButtonEl =\n",
              "        document.querySelector('#df-1cdac87a-d631-48d1-aa8b-0f5e317c52f7 button');\n",
              "      quickchartButtonEl.style.display =\n",
              "        google.colab.kernel.accessAllowed ? 'block' : 'none';\n",
              "    })();\n",
              "  </script>\n",
              "</div>\n",
              "    </div>\n",
              "  </div>\n"
            ]
          },
          "metadata": {},
          "execution_count": 3
        }
      ]
    },
    {
      "cell_type": "code",
      "source": [
        "df.tail()"
      ],
      "metadata": {
        "colab": {
          "base_uri": "https://localhost:8080/",
          "height": 295
        },
        "id": "2bPCzDOAPR3c",
        "outputId": "6f83d218-d2fb-48fb-d7e2-a17b43094c87"
      },
      "execution_count": null,
      "outputs": [
        {
          "output_type": "execute_result",
          "data": {
            "text/plain": [
              "      CustomerID  Churn  Tenure PreferredLoginDevice  CityTier  \\\n",
              "5625       55626      0    10.0             Computer         1   \n",
              "5626       55627      0    13.0         Mobile Phone         1   \n",
              "5627       55628      0     1.0         Mobile Phone         1   \n",
              "5628       55629      0    23.0             Computer         3   \n",
              "5629       55630      0     8.0         Mobile Phone         1   \n",
              "\n",
              "      WarehouseToHome PreferredPaymentMode Gender  HourSpendOnApp  \\\n",
              "5625             30.0          Credit Card   Male             3.0   \n",
              "5626             13.0          Credit Card   Male             3.0   \n",
              "5627             11.0           Debit Card   Male             3.0   \n",
              "5628              9.0          Credit Card   Male             4.0   \n",
              "5629             15.0          Credit Card   Male             3.0   \n",
              "\n",
              "      NumberOfDeviceRegistered    PreferedOrderCat  SatisfactionScore  \\\n",
              "5625                         2  Laptop & Accessory                  1   \n",
              "5626                         5             Fashion                  5   \n",
              "5627                         2  Laptop & Accessory                  4   \n",
              "5628                         5  Laptop & Accessory                  4   \n",
              "5629                         2  Laptop & Accessory                  3   \n",
              "\n",
              "     MaritalStatus  NumberOfAddress  Complain  OrderAmountHikeFromlastYear  \\\n",
              "5625       Married                6         0                         18.0   \n",
              "5626       Married                6         0                         16.0   \n",
              "5627       Married                3         1                         21.0   \n",
              "5628       Married                4         0                         15.0   \n",
              "5629       Married                4         0                         13.0   \n",
              "\n",
              "      CouponUsed  OrderCount  DaySinceLastOrder  CashbackAmount  \n",
              "5625         1.0         2.0                4.0             151  \n",
              "5626         1.0         2.0                NaN             225  \n",
              "5627         1.0         2.0                4.0             186  \n",
              "5628         2.0         2.0                9.0             179  \n",
              "5629         2.0         2.0                3.0             169  "
            ],
            "text/html": [
              "\n",
              "  <div id=\"df-0dd93621-95eb-47d8-9c1d-cdba87fe1f54\" class=\"colab-df-container\">\n",
              "    <div>\n",
              "<style scoped>\n",
              "    .dataframe tbody tr th:only-of-type {\n",
              "        vertical-align: middle;\n",
              "    }\n",
              "\n",
              "    .dataframe tbody tr th {\n",
              "        vertical-align: top;\n",
              "    }\n",
              "\n",
              "    .dataframe thead th {\n",
              "        text-align: right;\n",
              "    }\n",
              "</style>\n",
              "<table border=\"1\" class=\"dataframe\">\n",
              "  <thead>\n",
              "    <tr style=\"text-align: right;\">\n",
              "      <th></th>\n",
              "      <th>CustomerID</th>\n",
              "      <th>Churn</th>\n",
              "      <th>Tenure</th>\n",
              "      <th>PreferredLoginDevice</th>\n",
              "      <th>CityTier</th>\n",
              "      <th>WarehouseToHome</th>\n",
              "      <th>PreferredPaymentMode</th>\n",
              "      <th>Gender</th>\n",
              "      <th>HourSpendOnApp</th>\n",
              "      <th>NumberOfDeviceRegistered</th>\n",
              "      <th>PreferedOrderCat</th>\n",
              "      <th>SatisfactionScore</th>\n",
              "      <th>MaritalStatus</th>\n",
              "      <th>NumberOfAddress</th>\n",
              "      <th>Complain</th>\n",
              "      <th>OrderAmountHikeFromlastYear</th>\n",
              "      <th>CouponUsed</th>\n",
              "      <th>OrderCount</th>\n",
              "      <th>DaySinceLastOrder</th>\n",
              "      <th>CashbackAmount</th>\n",
              "    </tr>\n",
              "  </thead>\n",
              "  <tbody>\n",
              "    <tr>\n",
              "      <th>5625</th>\n",
              "      <td>55626</td>\n",
              "      <td>0</td>\n",
              "      <td>10.0</td>\n",
              "      <td>Computer</td>\n",
              "      <td>1</td>\n",
              "      <td>30.0</td>\n",
              "      <td>Credit Card</td>\n",
              "      <td>Male</td>\n",
              "      <td>3.0</td>\n",
              "      <td>2</td>\n",
              "      <td>Laptop &amp; Accessory</td>\n",
              "      <td>1</td>\n",
              "      <td>Married</td>\n",
              "      <td>6</td>\n",
              "      <td>0</td>\n",
              "      <td>18.0</td>\n",
              "      <td>1.0</td>\n",
              "      <td>2.0</td>\n",
              "      <td>4.0</td>\n",
              "      <td>151</td>\n",
              "    </tr>\n",
              "    <tr>\n",
              "      <th>5626</th>\n",
              "      <td>55627</td>\n",
              "      <td>0</td>\n",
              "      <td>13.0</td>\n",
              "      <td>Mobile Phone</td>\n",
              "      <td>1</td>\n",
              "      <td>13.0</td>\n",
              "      <td>Credit Card</td>\n",
              "      <td>Male</td>\n",
              "      <td>3.0</td>\n",
              "      <td>5</td>\n",
              "      <td>Fashion</td>\n",
              "      <td>5</td>\n",
              "      <td>Married</td>\n",
              "      <td>6</td>\n",
              "      <td>0</td>\n",
              "      <td>16.0</td>\n",
              "      <td>1.0</td>\n",
              "      <td>2.0</td>\n",
              "      <td>NaN</td>\n",
              "      <td>225</td>\n",
              "    </tr>\n",
              "    <tr>\n",
              "      <th>5627</th>\n",
              "      <td>55628</td>\n",
              "      <td>0</td>\n",
              "      <td>1.0</td>\n",
              "      <td>Mobile Phone</td>\n",
              "      <td>1</td>\n",
              "      <td>11.0</td>\n",
              "      <td>Debit Card</td>\n",
              "      <td>Male</td>\n",
              "      <td>3.0</td>\n",
              "      <td>2</td>\n",
              "      <td>Laptop &amp; Accessory</td>\n",
              "      <td>4</td>\n",
              "      <td>Married</td>\n",
              "      <td>3</td>\n",
              "      <td>1</td>\n",
              "      <td>21.0</td>\n",
              "      <td>1.0</td>\n",
              "      <td>2.0</td>\n",
              "      <td>4.0</td>\n",
              "      <td>186</td>\n",
              "    </tr>\n",
              "    <tr>\n",
              "      <th>5628</th>\n",
              "      <td>55629</td>\n",
              "      <td>0</td>\n",
              "      <td>23.0</td>\n",
              "      <td>Computer</td>\n",
              "      <td>3</td>\n",
              "      <td>9.0</td>\n",
              "      <td>Credit Card</td>\n",
              "      <td>Male</td>\n",
              "      <td>4.0</td>\n",
              "      <td>5</td>\n",
              "      <td>Laptop &amp; Accessory</td>\n",
              "      <td>4</td>\n",
              "      <td>Married</td>\n",
              "      <td>4</td>\n",
              "      <td>0</td>\n",
              "      <td>15.0</td>\n",
              "      <td>2.0</td>\n",
              "      <td>2.0</td>\n",
              "      <td>9.0</td>\n",
              "      <td>179</td>\n",
              "    </tr>\n",
              "    <tr>\n",
              "      <th>5629</th>\n",
              "      <td>55630</td>\n",
              "      <td>0</td>\n",
              "      <td>8.0</td>\n",
              "      <td>Mobile Phone</td>\n",
              "      <td>1</td>\n",
              "      <td>15.0</td>\n",
              "      <td>Credit Card</td>\n",
              "      <td>Male</td>\n",
              "      <td>3.0</td>\n",
              "      <td>2</td>\n",
              "      <td>Laptop &amp; Accessory</td>\n",
              "      <td>3</td>\n",
              "      <td>Married</td>\n",
              "      <td>4</td>\n",
              "      <td>0</td>\n",
              "      <td>13.0</td>\n",
              "      <td>2.0</td>\n",
              "      <td>2.0</td>\n",
              "      <td>3.0</td>\n",
              "      <td>169</td>\n",
              "    </tr>\n",
              "  </tbody>\n",
              "</table>\n",
              "</div>\n",
              "    <div class=\"colab-df-buttons\">\n",
              "\n",
              "  <div class=\"colab-df-container\">\n",
              "    <button class=\"colab-df-convert\" onclick=\"convertToInteractive('df-0dd93621-95eb-47d8-9c1d-cdba87fe1f54')\"\n",
              "            title=\"Convert this dataframe to an interactive table.\"\n",
              "            style=\"display:none;\">\n",
              "\n",
              "  <svg xmlns=\"http://www.w3.org/2000/svg\" height=\"24px\" viewBox=\"0 -960 960 960\">\n",
              "    <path d=\"M120-120v-720h720v720H120Zm60-500h600v-160H180v160Zm220 220h160v-160H400v160Zm0 220h160v-160H400v160ZM180-400h160v-160H180v160Zm440 0h160v-160H620v160ZM180-180h160v-160H180v160Zm440 0h160v-160H620v160Z\"/>\n",
              "  </svg>\n",
              "    </button>\n",
              "\n",
              "  <style>\n",
              "    .colab-df-container {\n",
              "      display:flex;\n",
              "      gap: 12px;\n",
              "    }\n",
              "\n",
              "    .colab-df-convert {\n",
              "      background-color: #E8F0FE;\n",
              "      border: none;\n",
              "      border-radius: 50%;\n",
              "      cursor: pointer;\n",
              "      display: none;\n",
              "      fill: #1967D2;\n",
              "      height: 32px;\n",
              "      padding: 0 0 0 0;\n",
              "      width: 32px;\n",
              "    }\n",
              "\n",
              "    .colab-df-convert:hover {\n",
              "      background-color: #E2EBFA;\n",
              "      box-shadow: 0px 1px 2px rgba(60, 64, 67, 0.3), 0px 1px 3px 1px rgba(60, 64, 67, 0.15);\n",
              "      fill: #174EA6;\n",
              "    }\n",
              "\n",
              "    .colab-df-buttons div {\n",
              "      margin-bottom: 4px;\n",
              "    }\n",
              "\n",
              "    [theme=dark] .colab-df-convert {\n",
              "      background-color: #3B4455;\n",
              "      fill: #D2E3FC;\n",
              "    }\n",
              "\n",
              "    [theme=dark] .colab-df-convert:hover {\n",
              "      background-color: #434B5C;\n",
              "      box-shadow: 0px 1px 3px 1px rgba(0, 0, 0, 0.15);\n",
              "      filter: drop-shadow(0px 1px 2px rgba(0, 0, 0, 0.3));\n",
              "      fill: #FFFFFF;\n",
              "    }\n",
              "  </style>\n",
              "\n",
              "    <script>\n",
              "      const buttonEl =\n",
              "        document.querySelector('#df-0dd93621-95eb-47d8-9c1d-cdba87fe1f54 button.colab-df-convert');\n",
              "      buttonEl.style.display =\n",
              "        google.colab.kernel.accessAllowed ? 'block' : 'none';\n",
              "\n",
              "      async function convertToInteractive(key) {\n",
              "        const element = document.querySelector('#df-0dd93621-95eb-47d8-9c1d-cdba87fe1f54');\n",
              "        const dataTable =\n",
              "          await google.colab.kernel.invokeFunction('convertToInteractive',\n",
              "                                                    [key], {});\n",
              "        if (!dataTable) return;\n",
              "\n",
              "        const docLinkHtml = 'Like what you see? Visit the ' +\n",
              "          '<a target=\"_blank\" href=https://colab.research.google.com/notebooks/data_table.ipynb>data table notebook</a>'\n",
              "          + ' to learn more about interactive tables.';\n",
              "        element.innerHTML = '';\n",
              "        dataTable['output_type'] = 'display_data';\n",
              "        await google.colab.output.renderOutput(dataTable, element);\n",
              "        const docLink = document.createElement('div');\n",
              "        docLink.innerHTML = docLinkHtml;\n",
              "        element.appendChild(docLink);\n",
              "      }\n",
              "    </script>\n",
              "  </div>\n",
              "\n",
              "\n",
              "<div id=\"df-dcfd2160-2e10-471b-8fed-74e9a2dd5a4b\">\n",
              "  <button class=\"colab-df-quickchart\" onclick=\"quickchart('df-dcfd2160-2e10-471b-8fed-74e9a2dd5a4b')\"\n",
              "            title=\"Suggest charts.\"\n",
              "            style=\"display:none;\">\n",
              "\n",
              "<svg xmlns=\"http://www.w3.org/2000/svg\" height=\"24px\"viewBox=\"0 0 24 24\"\n",
              "     width=\"24px\">\n",
              "    <g>\n",
              "        <path d=\"M19 3H5c-1.1 0-2 .9-2 2v14c0 1.1.9 2 2 2h14c1.1 0 2-.9 2-2V5c0-1.1-.9-2-2-2zM9 17H7v-7h2v7zm4 0h-2V7h2v10zm4 0h-2v-4h2v4z\"/>\n",
              "    </g>\n",
              "</svg>\n",
              "  </button>\n",
              "\n",
              "<style>\n",
              "  .colab-df-quickchart {\n",
              "    background-color: #E8F0FE;\n",
              "    border: none;\n",
              "    border-radius: 50%;\n",
              "    cursor: pointer;\n",
              "    display: none;\n",
              "    fill: #1967D2;\n",
              "    height: 32px;\n",
              "    padding: 0 0 0 0;\n",
              "    width: 32px;\n",
              "  }\n",
              "\n",
              "  .colab-df-quickchart:hover {\n",
              "    background-color: #E2EBFA;\n",
              "    box-shadow: 0px 1px 2px rgba(60, 64, 67, 0.3), 0px 1px 3px 1px rgba(60, 64, 67, 0.15);\n",
              "    fill: #174EA6;\n",
              "  }\n",
              "\n",
              "  [theme=dark] .colab-df-quickchart {\n",
              "    background-color: #3B4455;\n",
              "    fill: #D2E3FC;\n",
              "  }\n",
              "\n",
              "  [theme=dark] .colab-df-quickchart:hover {\n",
              "    background-color: #434B5C;\n",
              "    box-shadow: 0px 1px 3px 1px rgba(0, 0, 0, 0.15);\n",
              "    filter: drop-shadow(0px 1px 2px rgba(0, 0, 0, 0.3));\n",
              "    fill: #FFFFFF;\n",
              "  }\n",
              "</style>\n",
              "\n",
              "  <script>\n",
              "    async function quickchart(key) {\n",
              "      const charts = await google.colab.kernel.invokeFunction(\n",
              "          'suggestCharts', [key], {});\n",
              "    }\n",
              "    (() => {\n",
              "      let quickchartButtonEl =\n",
              "        document.querySelector('#df-dcfd2160-2e10-471b-8fed-74e9a2dd5a4b button');\n",
              "      quickchartButtonEl.style.display =\n",
              "        google.colab.kernel.accessAllowed ? 'block' : 'none';\n",
              "    })();\n",
              "  </script>\n",
              "</div>\n",
              "    </div>\n",
              "  </div>\n"
            ]
          },
          "metadata": {},
          "execution_count": 4
        }
      ]
    },
    {
      "cell_type": "code",
      "source": [
        "# select row by index\n",
        "df.iloc[2]"
      ],
      "metadata": {
        "id": "Qy5P5_zMSiHs",
        "colab": {
          "base_uri": "https://localhost:8080/"
        },
        "outputId": "e191afb4-5e2d-407e-a304-881d17a864b0"
      },
      "execution_count": null,
      "outputs": [
        {
          "output_type": "execute_result",
          "data": {
            "text/plain": [
              "CustomerID                          50003\n",
              "Churn                                   1\n",
              "Tenure                                NaN\n",
              "PreferredLoginDevice                Phone\n",
              "CityTier                                1\n",
              "WarehouseToHome                      30.0\n",
              "PreferredPaymentMode           Debit Card\n",
              "Gender                               Male\n",
              "HourSpendOnApp                        2.0\n",
              "NumberOfDeviceRegistered                4\n",
              "PreferedOrderCat                   Mobile\n",
              "SatisfactionScore                       3\n",
              "MaritalStatus                      Single\n",
              "NumberOfAddress                         6\n",
              "Complain                                1\n",
              "OrderAmountHikeFromlastYear          14.0\n",
              "CouponUsed                            0.0\n",
              "OrderCount                            1.0\n",
              "DaySinceLastOrder                     3.0\n",
              "CashbackAmount                        120\n",
              "Name: 2, dtype: object"
            ]
          },
          "metadata": {},
          "execution_count": 5
        }
      ]
    },
    {
      "cell_type": "code",
      "source": [
        "df.info()"
      ],
      "metadata": {
        "colab": {
          "base_uri": "https://localhost:8080/"
        },
        "id": "8331qSyVPcd_",
        "outputId": "ceefbc37-bd34-439f-d200-72843ea3f490"
      },
      "execution_count": null,
      "outputs": [
        {
          "output_type": "stream",
          "name": "stdout",
          "text": [
            "<class 'pandas.core.frame.DataFrame'>\n",
            "RangeIndex: 5630 entries, 0 to 5629\n",
            "Data columns (total 20 columns):\n",
            " #   Column                       Non-Null Count  Dtype  \n",
            "---  ------                       --------------  -----  \n",
            " 0   CustomerID                   5630 non-null   int64  \n",
            " 1   Churn                        5630 non-null   int64  \n",
            " 2   Tenure                       5366 non-null   float64\n",
            " 3   PreferredLoginDevice         5630 non-null   object \n",
            " 4   CityTier                     5630 non-null   int64  \n",
            " 5   WarehouseToHome              5379 non-null   float64\n",
            " 6   PreferredPaymentMode         5630 non-null   object \n",
            " 7   Gender                       5630 non-null   object \n",
            " 8   HourSpendOnApp               5375 non-null   float64\n",
            " 9   NumberOfDeviceRegistered     5630 non-null   int64  \n",
            " 10  PreferedOrderCat             5630 non-null   object \n",
            " 11  SatisfactionScore            5630 non-null   int64  \n",
            " 12  MaritalStatus                5630 non-null   object \n",
            " 13  NumberOfAddress              5630 non-null   int64  \n",
            " 14  Complain                     5630 non-null   int64  \n",
            " 15  OrderAmountHikeFromlastYear  5365 non-null   float64\n",
            " 16  CouponUsed                   5374 non-null   float64\n",
            " 17  OrderCount                   5372 non-null   float64\n",
            " 18  DaySinceLastOrder            5323 non-null   float64\n",
            " 19  CashbackAmount               5630 non-null   int64  \n",
            "dtypes: float64(7), int64(8), object(5)\n",
            "memory usage: 879.8+ KB\n"
          ]
        }
      ]
    },
    {
      "cell_type": "code",
      "source": [
        "df.dtypes"
      ],
      "metadata": {
        "colab": {
          "base_uri": "https://localhost:8080/"
        },
        "id": "-2uKlfZ1QMn0",
        "outputId": "b1d0ffe0-bb64-4e07-f9a6-8b30c5492949"
      },
      "execution_count": null,
      "outputs": [
        {
          "output_type": "execute_result",
          "data": {
            "text/plain": [
              "CustomerID                       int64\n",
              "Churn                            int64\n",
              "Tenure                         float64\n",
              "PreferredLoginDevice            object\n",
              "CityTier                         int64\n",
              "WarehouseToHome                float64\n",
              "PreferredPaymentMode            object\n",
              "Gender                          object\n",
              "HourSpendOnApp                 float64\n",
              "NumberOfDeviceRegistered         int64\n",
              "PreferedOrderCat                object\n",
              "SatisfactionScore                int64\n",
              "MaritalStatus                   object\n",
              "NumberOfAddress                  int64\n",
              "Complain                         int64\n",
              "OrderAmountHikeFromlastYear    float64\n",
              "CouponUsed                     float64\n",
              "OrderCount                     float64\n",
              "DaySinceLastOrder              float64\n",
              "CashbackAmount                   int64\n",
              "dtype: object"
            ]
          },
          "metadata": {},
          "execution_count": 7
        }
      ]
    },
    {
      "cell_type": "code",
      "source": [
        "df.isna().sum()"
      ],
      "metadata": {
        "id": "ILmF6eQ8dKi0",
        "colab": {
          "base_uri": "https://localhost:8080/"
        },
        "outputId": "1e7d235a-1b65-4320-9f89-6392fca61f5b"
      },
      "execution_count": null,
      "outputs": [
        {
          "output_type": "execute_result",
          "data": {
            "text/plain": [
              "CustomerID                       0\n",
              "Churn                            0\n",
              "Tenure                         264\n",
              "PreferredLoginDevice             0\n",
              "CityTier                         0\n",
              "WarehouseToHome                251\n",
              "PreferredPaymentMode             0\n",
              "Gender                           0\n",
              "HourSpendOnApp                 255\n",
              "NumberOfDeviceRegistered         0\n",
              "PreferedOrderCat                 0\n",
              "SatisfactionScore                0\n",
              "MaritalStatus                    0\n",
              "NumberOfAddress                  0\n",
              "Complain                         0\n",
              "OrderAmountHikeFromlastYear    265\n",
              "CouponUsed                     256\n",
              "OrderCount                     258\n",
              "DaySinceLastOrder              307\n",
              "CashbackAmount                   0\n",
              "dtype: int64"
            ]
          },
          "metadata": {},
          "execution_count": 8
        }
      ]
    },
    {
      "cell_type": "code",
      "source": [
        "df.describe()"
      ],
      "metadata": {
        "id": "fZNpAOuQXIPM",
        "colab": {
          "base_uri": "https://localhost:8080/",
          "height": 320
        },
        "outputId": "0c5a3287-5f6e-45c4-f6df-2d986a7439b5"
      },
      "execution_count": null,
      "outputs": [
        {
          "output_type": "execute_result",
          "data": {
            "text/plain": [
              "         CustomerID        Churn       Tenure     CityTier  WarehouseToHome  \\\n",
              "count   5630.000000  5630.000000  5366.000000  5630.000000      5379.000000   \n",
              "mean   52815.500000     0.168384    10.189899     1.654707        15.639896   \n",
              "std     1625.385339     0.374240     8.557241     0.915389         8.531475   \n",
              "min    50001.000000     0.000000     0.000000     1.000000         5.000000   \n",
              "25%    51408.250000     0.000000     2.000000     1.000000         9.000000   \n",
              "50%    52815.500000     0.000000     9.000000     1.000000        14.000000   \n",
              "75%    54222.750000     0.000000    16.000000     3.000000        20.000000   \n",
              "max    55630.000000     1.000000    61.000000     3.000000       127.000000   \n",
              "\n",
              "       HourSpendOnApp  NumberOfDeviceRegistered  SatisfactionScore  \\\n",
              "count     5375.000000               5630.000000        5630.000000   \n",
              "mean         2.931535                  3.688988           3.066785   \n",
              "std          0.721926                  1.023999           1.380194   \n",
              "min          0.000000                  1.000000           1.000000   \n",
              "25%          2.000000                  3.000000           2.000000   \n",
              "50%          3.000000                  4.000000           3.000000   \n",
              "75%          3.000000                  4.000000           4.000000   \n",
              "max          5.000000                  6.000000           5.000000   \n",
              "\n",
              "       NumberOfAddress     Complain  OrderAmountHikeFromlastYear   CouponUsed  \\\n",
              "count      5630.000000  5630.000000                  5365.000000  5374.000000   \n",
              "mean          4.214032     0.284902                    15.707922     1.751023   \n",
              "std           2.583586     0.451408                     3.675485     1.894621   \n",
              "min           1.000000     0.000000                    11.000000     0.000000   \n",
              "25%           2.000000     0.000000                    13.000000     1.000000   \n",
              "50%           3.000000     0.000000                    15.000000     1.000000   \n",
              "75%           6.000000     1.000000                    18.000000     2.000000   \n",
              "max          22.000000     1.000000                    26.000000    16.000000   \n",
              "\n",
              "        OrderCount  DaySinceLastOrder  CashbackAmount  \n",
              "count  5372.000000        5323.000000     5630.000000  \n",
              "mean      3.008004           4.543491      177.221492  \n",
              "std       2.939680           3.654433       49.193869  \n",
              "min       1.000000           0.000000        0.000000  \n",
              "25%       1.000000           2.000000      146.000000  \n",
              "50%       2.000000           3.000000      163.000000  \n",
              "75%       3.000000           7.000000      196.000000  \n",
              "max      16.000000          46.000000      325.000000  "
            ],
            "text/html": [
              "\n",
              "  <div id=\"df-07b69755-74a1-44ac-a27e-c022dbdc7324\" class=\"colab-df-container\">\n",
              "    <div>\n",
              "<style scoped>\n",
              "    .dataframe tbody tr th:only-of-type {\n",
              "        vertical-align: middle;\n",
              "    }\n",
              "\n",
              "    .dataframe tbody tr th {\n",
              "        vertical-align: top;\n",
              "    }\n",
              "\n",
              "    .dataframe thead th {\n",
              "        text-align: right;\n",
              "    }\n",
              "</style>\n",
              "<table border=\"1\" class=\"dataframe\">\n",
              "  <thead>\n",
              "    <tr style=\"text-align: right;\">\n",
              "      <th></th>\n",
              "      <th>CustomerID</th>\n",
              "      <th>Churn</th>\n",
              "      <th>Tenure</th>\n",
              "      <th>CityTier</th>\n",
              "      <th>WarehouseToHome</th>\n",
              "      <th>HourSpendOnApp</th>\n",
              "      <th>NumberOfDeviceRegistered</th>\n",
              "      <th>SatisfactionScore</th>\n",
              "      <th>NumberOfAddress</th>\n",
              "      <th>Complain</th>\n",
              "      <th>OrderAmountHikeFromlastYear</th>\n",
              "      <th>CouponUsed</th>\n",
              "      <th>OrderCount</th>\n",
              "      <th>DaySinceLastOrder</th>\n",
              "      <th>CashbackAmount</th>\n",
              "    </tr>\n",
              "  </thead>\n",
              "  <tbody>\n",
              "    <tr>\n",
              "      <th>count</th>\n",
              "      <td>5630.000000</td>\n",
              "      <td>5630.000000</td>\n",
              "      <td>5366.000000</td>\n",
              "      <td>5630.000000</td>\n",
              "      <td>5379.000000</td>\n",
              "      <td>5375.000000</td>\n",
              "      <td>5630.000000</td>\n",
              "      <td>5630.000000</td>\n",
              "      <td>5630.000000</td>\n",
              "      <td>5630.000000</td>\n",
              "      <td>5365.000000</td>\n",
              "      <td>5374.000000</td>\n",
              "      <td>5372.000000</td>\n",
              "      <td>5323.000000</td>\n",
              "      <td>5630.000000</td>\n",
              "    </tr>\n",
              "    <tr>\n",
              "      <th>mean</th>\n",
              "      <td>52815.500000</td>\n",
              "      <td>0.168384</td>\n",
              "      <td>10.189899</td>\n",
              "      <td>1.654707</td>\n",
              "      <td>15.639896</td>\n",
              "      <td>2.931535</td>\n",
              "      <td>3.688988</td>\n",
              "      <td>3.066785</td>\n",
              "      <td>4.214032</td>\n",
              "      <td>0.284902</td>\n",
              "      <td>15.707922</td>\n",
              "      <td>1.751023</td>\n",
              "      <td>3.008004</td>\n",
              "      <td>4.543491</td>\n",
              "      <td>177.221492</td>\n",
              "    </tr>\n",
              "    <tr>\n",
              "      <th>std</th>\n",
              "      <td>1625.385339</td>\n",
              "      <td>0.374240</td>\n",
              "      <td>8.557241</td>\n",
              "      <td>0.915389</td>\n",
              "      <td>8.531475</td>\n",
              "      <td>0.721926</td>\n",
              "      <td>1.023999</td>\n",
              "      <td>1.380194</td>\n",
              "      <td>2.583586</td>\n",
              "      <td>0.451408</td>\n",
              "      <td>3.675485</td>\n",
              "      <td>1.894621</td>\n",
              "      <td>2.939680</td>\n",
              "      <td>3.654433</td>\n",
              "      <td>49.193869</td>\n",
              "    </tr>\n",
              "    <tr>\n",
              "      <th>min</th>\n",
              "      <td>50001.000000</td>\n",
              "      <td>0.000000</td>\n",
              "      <td>0.000000</td>\n",
              "      <td>1.000000</td>\n",
              "      <td>5.000000</td>\n",
              "      <td>0.000000</td>\n",
              "      <td>1.000000</td>\n",
              "      <td>1.000000</td>\n",
              "      <td>1.000000</td>\n",
              "      <td>0.000000</td>\n",
              "      <td>11.000000</td>\n",
              "      <td>0.000000</td>\n",
              "      <td>1.000000</td>\n",
              "      <td>0.000000</td>\n",
              "      <td>0.000000</td>\n",
              "    </tr>\n",
              "    <tr>\n",
              "      <th>25%</th>\n",
              "      <td>51408.250000</td>\n",
              "      <td>0.000000</td>\n",
              "      <td>2.000000</td>\n",
              "      <td>1.000000</td>\n",
              "      <td>9.000000</td>\n",
              "      <td>2.000000</td>\n",
              "      <td>3.000000</td>\n",
              "      <td>2.000000</td>\n",
              "      <td>2.000000</td>\n",
              "      <td>0.000000</td>\n",
              "      <td>13.000000</td>\n",
              "      <td>1.000000</td>\n",
              "      <td>1.000000</td>\n",
              "      <td>2.000000</td>\n",
              "      <td>146.000000</td>\n",
              "    </tr>\n",
              "    <tr>\n",
              "      <th>50%</th>\n",
              "      <td>52815.500000</td>\n",
              "      <td>0.000000</td>\n",
              "      <td>9.000000</td>\n",
              "      <td>1.000000</td>\n",
              "      <td>14.000000</td>\n",
              "      <td>3.000000</td>\n",
              "      <td>4.000000</td>\n",
              "      <td>3.000000</td>\n",
              "      <td>3.000000</td>\n",
              "      <td>0.000000</td>\n",
              "      <td>15.000000</td>\n",
              "      <td>1.000000</td>\n",
              "      <td>2.000000</td>\n",
              "      <td>3.000000</td>\n",
              "      <td>163.000000</td>\n",
              "    </tr>\n",
              "    <tr>\n",
              "      <th>75%</th>\n",
              "      <td>54222.750000</td>\n",
              "      <td>0.000000</td>\n",
              "      <td>16.000000</td>\n",
              "      <td>3.000000</td>\n",
              "      <td>20.000000</td>\n",
              "      <td>3.000000</td>\n",
              "      <td>4.000000</td>\n",
              "      <td>4.000000</td>\n",
              "      <td>6.000000</td>\n",
              "      <td>1.000000</td>\n",
              "      <td>18.000000</td>\n",
              "      <td>2.000000</td>\n",
              "      <td>3.000000</td>\n",
              "      <td>7.000000</td>\n",
              "      <td>196.000000</td>\n",
              "    </tr>\n",
              "    <tr>\n",
              "      <th>max</th>\n",
              "      <td>55630.000000</td>\n",
              "      <td>1.000000</td>\n",
              "      <td>61.000000</td>\n",
              "      <td>3.000000</td>\n",
              "      <td>127.000000</td>\n",
              "      <td>5.000000</td>\n",
              "      <td>6.000000</td>\n",
              "      <td>5.000000</td>\n",
              "      <td>22.000000</td>\n",
              "      <td>1.000000</td>\n",
              "      <td>26.000000</td>\n",
              "      <td>16.000000</td>\n",
              "      <td>16.000000</td>\n",
              "      <td>46.000000</td>\n",
              "      <td>325.000000</td>\n",
              "    </tr>\n",
              "  </tbody>\n",
              "</table>\n",
              "</div>\n",
              "    <div class=\"colab-df-buttons\">\n",
              "\n",
              "  <div class=\"colab-df-container\">\n",
              "    <button class=\"colab-df-convert\" onclick=\"convertToInteractive('df-07b69755-74a1-44ac-a27e-c022dbdc7324')\"\n",
              "            title=\"Convert this dataframe to an interactive table.\"\n",
              "            style=\"display:none;\">\n",
              "\n",
              "  <svg xmlns=\"http://www.w3.org/2000/svg\" height=\"24px\" viewBox=\"0 -960 960 960\">\n",
              "    <path d=\"M120-120v-720h720v720H120Zm60-500h600v-160H180v160Zm220 220h160v-160H400v160Zm0 220h160v-160H400v160ZM180-400h160v-160H180v160Zm440 0h160v-160H620v160ZM180-180h160v-160H180v160Zm440 0h160v-160H620v160Z\"/>\n",
              "  </svg>\n",
              "    </button>\n",
              "\n",
              "  <style>\n",
              "    .colab-df-container {\n",
              "      display:flex;\n",
              "      gap: 12px;\n",
              "    }\n",
              "\n",
              "    .colab-df-convert {\n",
              "      background-color: #E8F0FE;\n",
              "      border: none;\n",
              "      border-radius: 50%;\n",
              "      cursor: pointer;\n",
              "      display: none;\n",
              "      fill: #1967D2;\n",
              "      height: 32px;\n",
              "      padding: 0 0 0 0;\n",
              "      width: 32px;\n",
              "    }\n",
              "\n",
              "    .colab-df-convert:hover {\n",
              "      background-color: #E2EBFA;\n",
              "      box-shadow: 0px 1px 2px rgba(60, 64, 67, 0.3), 0px 1px 3px 1px rgba(60, 64, 67, 0.15);\n",
              "      fill: #174EA6;\n",
              "    }\n",
              "\n",
              "    .colab-df-buttons div {\n",
              "      margin-bottom: 4px;\n",
              "    }\n",
              "\n",
              "    [theme=dark] .colab-df-convert {\n",
              "      background-color: #3B4455;\n",
              "      fill: #D2E3FC;\n",
              "    }\n",
              "\n",
              "    [theme=dark] .colab-df-convert:hover {\n",
              "      background-color: #434B5C;\n",
              "      box-shadow: 0px 1px 3px 1px rgba(0, 0, 0, 0.15);\n",
              "      filter: drop-shadow(0px 1px 2px rgba(0, 0, 0, 0.3));\n",
              "      fill: #FFFFFF;\n",
              "    }\n",
              "  </style>\n",
              "\n",
              "    <script>\n",
              "      const buttonEl =\n",
              "        document.querySelector('#df-07b69755-74a1-44ac-a27e-c022dbdc7324 button.colab-df-convert');\n",
              "      buttonEl.style.display =\n",
              "        google.colab.kernel.accessAllowed ? 'block' : 'none';\n",
              "\n",
              "      async function convertToInteractive(key) {\n",
              "        const element = document.querySelector('#df-07b69755-74a1-44ac-a27e-c022dbdc7324');\n",
              "        const dataTable =\n",
              "          await google.colab.kernel.invokeFunction('convertToInteractive',\n",
              "                                                    [key], {});\n",
              "        if (!dataTable) return;\n",
              "\n",
              "        const docLinkHtml = 'Like what you see? Visit the ' +\n",
              "          '<a target=\"_blank\" href=https://colab.research.google.com/notebooks/data_table.ipynb>data table notebook</a>'\n",
              "          + ' to learn more about interactive tables.';\n",
              "        element.innerHTML = '';\n",
              "        dataTable['output_type'] = 'display_data';\n",
              "        await google.colab.output.renderOutput(dataTable, element);\n",
              "        const docLink = document.createElement('div');\n",
              "        docLink.innerHTML = docLinkHtml;\n",
              "        element.appendChild(docLink);\n",
              "      }\n",
              "    </script>\n",
              "  </div>\n",
              "\n",
              "\n",
              "<div id=\"df-1733c2be-7389-4493-8054-776f0f4db349\">\n",
              "  <button class=\"colab-df-quickchart\" onclick=\"quickchart('df-1733c2be-7389-4493-8054-776f0f4db349')\"\n",
              "            title=\"Suggest charts.\"\n",
              "            style=\"display:none;\">\n",
              "\n",
              "<svg xmlns=\"http://www.w3.org/2000/svg\" height=\"24px\"viewBox=\"0 0 24 24\"\n",
              "     width=\"24px\">\n",
              "    <g>\n",
              "        <path d=\"M19 3H5c-1.1 0-2 .9-2 2v14c0 1.1.9 2 2 2h14c1.1 0 2-.9 2-2V5c0-1.1-.9-2-2-2zM9 17H7v-7h2v7zm4 0h-2V7h2v10zm4 0h-2v-4h2v4z\"/>\n",
              "    </g>\n",
              "</svg>\n",
              "  </button>\n",
              "\n",
              "<style>\n",
              "  .colab-df-quickchart {\n",
              "    background-color: #E8F0FE;\n",
              "    border: none;\n",
              "    border-radius: 50%;\n",
              "    cursor: pointer;\n",
              "    display: none;\n",
              "    fill: #1967D2;\n",
              "    height: 32px;\n",
              "    padding: 0 0 0 0;\n",
              "    width: 32px;\n",
              "  }\n",
              "\n",
              "  .colab-df-quickchart:hover {\n",
              "    background-color: #E2EBFA;\n",
              "    box-shadow: 0px 1px 2px rgba(60, 64, 67, 0.3), 0px 1px 3px 1px rgba(60, 64, 67, 0.15);\n",
              "    fill: #174EA6;\n",
              "  }\n",
              "\n",
              "  [theme=dark] .colab-df-quickchart {\n",
              "    background-color: #3B4455;\n",
              "    fill: #D2E3FC;\n",
              "  }\n",
              "\n",
              "  [theme=dark] .colab-df-quickchart:hover {\n",
              "    background-color: #434B5C;\n",
              "    box-shadow: 0px 1px 3px 1px rgba(0, 0, 0, 0.15);\n",
              "    filter: drop-shadow(0px 1px 2px rgba(0, 0, 0, 0.3));\n",
              "    fill: #FFFFFF;\n",
              "  }\n",
              "</style>\n",
              "\n",
              "  <script>\n",
              "    async function quickchart(key) {\n",
              "      const charts = await google.colab.kernel.invokeFunction(\n",
              "          'suggestCharts', [key], {});\n",
              "    }\n",
              "    (() => {\n",
              "      let quickchartButtonEl =\n",
              "        document.querySelector('#df-1733c2be-7389-4493-8054-776f0f4db349 button');\n",
              "      quickchartButtonEl.style.display =\n",
              "        google.colab.kernel.accessAllowed ? 'block' : 'none';\n",
              "    })();\n",
              "  </script>\n",
              "</div>\n",
              "    </div>\n",
              "  </div>\n"
            ]
          },
          "metadata": {},
          "execution_count": 9
        }
      ]
    },
    {
      "cell_type": "code",
      "source": [
        "# check for unique value\n",
        "for col in df:\n",
        "    print (col)\n",
        "    print (df[col].unique())\n",
        "    print()"
      ],
      "metadata": {
        "colab": {
          "base_uri": "https://localhost:8080/"
        },
        "id": "YQCsa-xECCG-",
        "outputId": "f07fd9c4-10c0-40ae-9689-8190e8dfaaa8"
      },
      "execution_count": null,
      "outputs": [
        {
          "output_type": "stream",
          "name": "stdout",
          "text": [
            "CustomerID\n",
            "[50001 50002 50003 ... 55628 55629 55630]\n",
            "\n",
            "Churn\n",
            "[1 0]\n",
            "\n",
            "Tenure\n",
            "[ 4. nan  0. 13. 11.  9. 19. 20. 14.  8. 18.  5.  2. 30.  1. 23.  3. 29.\n",
            "  6. 26. 28.  7. 24. 25. 10. 15. 22. 27. 16. 12. 21. 17. 50. 60. 31. 51.\n",
            " 61.]\n",
            "\n",
            "PreferredLoginDevice\n",
            "['Mobile Phone' 'Phone' 'Computer']\n",
            "\n",
            "CityTier\n",
            "[3 1 2]\n",
            "\n",
            "WarehouseToHome\n",
            "[  6.   8.  30.  15.  12.  22.  11.   9.  31.  18.  13.  20.  29.  28.\n",
            "  26.  14.  nan  10.  27.  17.  23.  33.  19.  35.  24.  16.  25.  32.\n",
            "  34.   5.  21. 126.   7.  36. 127.]\n",
            "\n",
            "PreferredPaymentMode\n",
            "['Debit Card' 'UPI' 'CC' 'Cash on Delivery' 'E wallet' 'COD' 'Credit Card']\n",
            "\n",
            "Gender\n",
            "['Female' 'Male']\n",
            "\n",
            "HourSpendOnApp\n",
            "[ 3.  2. nan  1.  0.  4.  5.]\n",
            "\n",
            "NumberOfDeviceRegistered\n",
            "[3 4 5 2 1 6]\n",
            "\n",
            "PreferedOrderCat\n",
            "['Laptop & Accessory' 'Mobile' 'Mobile Phone' 'Others' 'Fashion' 'Grocery']\n",
            "\n",
            "SatisfactionScore\n",
            "[2 3 5 4 1]\n",
            "\n",
            "MaritalStatus\n",
            "['Single' 'Divorced' 'Married']\n",
            "\n",
            "NumberOfAddress\n",
            "[ 9  7  6  8  3  2  4 10  1  5 19 21 11 20 22]\n",
            "\n",
            "Complain\n",
            "[1 0]\n",
            "\n",
            "OrderAmountHikeFromlastYear\n",
            "[11. 15. 14. 23. 22. 16. 12. nan 13. 17. 18. 24. 19. 20. 21. 25. 26.]\n",
            "\n",
            "CouponUsed\n",
            "[ 1.  0.  4.  2.  9.  6. 11. nan  7. 12. 10.  5.  3. 13. 15.  8. 14. 16.]\n",
            "\n",
            "OrderCount\n",
            "[ 1.  6.  2. 15.  4.  7.  3.  9. nan 11.  5. 12. 10.  8. 13. 14. 16.]\n",
            "\n",
            "DaySinceLastOrder\n",
            "[ 5.  0.  3.  7.  2.  1.  8.  6.  4. 15.  9. 11. 10. nan 13. 12. 17. 16.\n",
            " 14. 30. 46. 18. 31.]\n",
            "\n",
            "CashbackAmount\n",
            "[160 121 120 134 130 139 123 127 295 154 196 129 157 161 150 162 203 117\n",
            " 146 207 142 173 190 143 133 209 122 194 126 299 125 187 131 111 205 137\n",
            " 145 128 290 287 195 237 300 159 268 136 144 153 166 163 168 138 167 176\n",
            " 149 204 185 200 225 236 189 222 206   0 179 188 124 132 292 261 291 164\n",
            " 165 169 294 135 152 269 156 140 235 218 220 276 147 158 114 180 155 260\n",
            " 112 221 148 219 271 240 175 151 293 283 215 171 183 181 197 267 243 232\n",
            " 184 266 296 280 241 270 279 191 198 141 174 262 216 119 282 254 177 110\n",
            " 113 186 212 248 217 238 211 284 116 272 228 202 263 208 249 178 274 214\n",
            " 210 227 298 233 277 234 275 231 182 286 278 297 288 281 199 273 247 193\n",
            " 264 192 201 244 252 170 229 230 258 115  12 118 289 239  56 320 324 315\n",
            " 312 325 250  25 213 317 316 319 245 301 172 285 246 265 318 308 257 321\n",
            " 305 304 223 307 242 309 253 323 302 259 256 311 303 322 313 306 224 226\n",
            " 255  37 314  81]\n",
            "\n"
          ]
        }
      ]
    },
    {
      "cell_type": "markdown",
      "source": [
        "Visualize Data Exploration"
      ],
      "metadata": {
        "id": "nxZtVgJnCEQA"
      }
    },
    {
      "cell_type": "code",
      "source": [
        "#Explore avg Tenure by Churn\n",
        "\n",
        "sns.boxplot(data=df, x='Churn', y='Tenure')\n",
        "plt.show()"
      ],
      "metadata": {
        "id": "irkKTdA4Z95F",
        "colab": {
          "base_uri": "https://localhost:8080/",
          "height": 458
        },
        "outputId": "9b4fb109-effd-4c5a-ec36-35127f49b03f"
      },
      "execution_count": null,
      "outputs": [
        {
          "output_type": "display_data",
          "data": {
            "text/plain": [
              "<Figure size 640x480 with 1 Axes>"
            ],
            "image/png": "[encoded data removed]"
          },
          "metadata": {}
        }
      ]
    },
    {
      "cell_type": "code",
      "source": [
        "#Explore No. of customers by Churn\n",
        "\n",
        "df_noCust_by_churn = df.groupby(by=['Churn']).agg(\n",
        "          no_customers=('Churn','count')).reset_index()\n",
        "\n",
        "sns.barplot(data=df_noCust_by_churn, x='Churn', y='no_customers')\n",
        "plt.show()"
      ],
      "metadata": {
        "colab": {
          "base_uri": "https://localhost:8080/",
          "height": 458
        },
        "id": "FzVa41LH9AKm",
        "outputId": "20f5285f-8880-4266-9dc5-ebd7d16a5510"
      },
      "execution_count": null,
      "outputs": [
        {
          "output_type": "display_data",
          "data": {
            "text/plain": [
              "<Figure size 640x480 with 1 Axes>"
            ],
            "image/png": "[encoded data removed]"
          },
          "metadata": {}
        }
      ]
    },
    {
      "cell_type": "code",
      "source": [
        "# Explore HourSpendOnApp by Churn\n",
        "sns.histplot(data=df, x='HourSpendOnApp', hue='Churn', multiple='stack')\n",
        "plt.xlabel('HourSpendOnApp')\n",
        "plt.ylabel('Count')\n",
        "plt.title('Distribution of HourSpendOnApp by Churn')\n",
        "plt.show()"
      ],
      "metadata": {
        "colab": {
          "base_uri": "https://localhost:8080/",
          "height": 480
        },
        "id": "KkGfvugICNEz",
        "outputId": "72c42218-36f2-48fb-cadb-7e2296ce16bb"
      },
      "execution_count": null,
      "outputs": [
        {
          "output_type": "display_data",
          "data": {
            "text/plain": [
              "<Figure size 640x480 with 1 Axes>"
            ],
            "image/png": "[encoded data removed]"
          },
          "metadata": {}
        }
      ]
    },
    {
      "cell_type": "code",
      "source": [
        "#Explore No. of CouponUsed by No. of customers\n",
        "\n",
        "df_noCust_by_target = df.groupby(by=['Churn']).agg(\n",
        "          no_CouponUsed=('CouponUsed','count')).reset_index()\n",
        "\n",
        "sns.barplot(data=df_noCust_by_target, x='Churn', y='no_CouponUsed')\n",
        "plt.show()"
      ],
      "metadata": {
        "colab": {
          "base_uri": "https://localhost:8080/",
          "height": 458
        },
        "id": "ei2Vu_ZO-aag",
        "outputId": "d6717f70-08e3-48b1-f848-f75f4f7a0ac0"
      },
      "execution_count": null,
      "outputs": [
        {
          "output_type": "display_data",
          "data": {
            "text/plain": [
              "<Figure size 640x480 with 1 Axes>"
            ],
            "image/png": "[encoded data removed]"
          },
          "metadata": {}
        }
      ]
    },
    {
      "cell_type": "code",
      "source": [
        "#Explore Churned Customer by No. of CouponUsed\n",
        "\n",
        "df_noCust_by_churn = df[df['Churn'] == 1].groupby(by=['CouponUsed']).agg(\n",
        "          no_Churn=('Churn','count')).reset_index()\n",
        "\n",
        "sns.barplot(data=df_noCust_by_churn, x='CouponUsed', y='no_Churn')\n",
        "plt.show()"
      ],
      "metadata": {
        "colab": {
          "base_uri": "https://localhost:8080/",
          "height": 458
        },
        "id": "p6F7a7hP_2uD",
        "outputId": "0cdcf035-b85b-4e39-fbc0-8105f103a2dc"
      },
      "execution_count": null,
      "outputs": [
        {
          "output_type": "display_data",
          "data": {
            "text/plain": [
              "<Figure size 640x480 with 1 Axes>"
            ],
            "image/png": "[encoded data removed]"
          },
          "metadata": {}
        }
      ]
    },
    {
      "cell_type": "markdown",
      "metadata": {
        "id": "pFF8tqNZY2Wd"
      },
      "source": [
        "# Data Cleansing"
      ]
    },
    {
      "cell_type": "code",
      "execution_count": null,
      "metadata": {
        "colab": {
          "base_uri": "https://localhost:8080/"
        },
        "id": "xBYFXSqLZwmP",
        "outputId": "fc82f403-e6d8-44ed-ff62-fe93cd062e95"
      },
      "outputs": [
        {
          "output_type": "execute_result",
          "data": {
            "text/plain": [
              "CustomerID                      object\n",
              "Churn                           object\n",
              "Tenure                         float64\n",
              "PreferredLoginDevice            object\n",
              "CityTier                        object\n",
              "WarehouseToHome                float64\n",
              "PreferredPaymentMode            object\n",
              "Gender                          object\n",
              "HourSpendOnApp                 float64\n",
              "NumberOfDeviceRegistered         int64\n",
              "PreferedOrderCat                object\n",
              "SatisfactionScore                int64\n",
              "MaritalStatus                   object\n",
              "NumberOfAddress                  int64\n",
              "Complain                         int64\n",
              "OrderAmountHikeFromlastYear    float64\n",
              "CouponUsed                     float64\n",
              "OrderCount                     float64\n",
              "DaySinceLastOrder              float64\n",
              "CashbackAmount                   int64\n",
              "dtype: object"
            ]
          },
          "metadata": {},
          "execution_count": 16
        }
      ],
      "source": [
        "# Handel data type\n",
        "def change_data_type(df, column, new_data_type):\n",
        "    df[column] = df[column].astype(new_data_type)\n",
        "\n",
        "change_data_type(df, 'CustomerID', object)\n",
        "change_data_type(df, 'Churn', object)\n",
        "change_data_type(df, 'CityTier', object)\n",
        "\n",
        "df.dtypes"
      ]
    },
    {
      "cell_type": "code",
      "execution_count": null,
      "metadata": {
        "colab": {
          "base_uri": "https://localhost:8080/"
        },
        "id": "2UNg_GwsZ0a_",
        "outputId": "4d7b7c45-88dd-45f3-8114-421c848f87f2"
      },
      "outputs": [
        {
          "output_type": "stream",
          "name": "stdout",
          "text": [
            "\n",
            "Column names after dropping:\n",
            "Index(['CustomerID', 'Churn', 'Tenure', 'PreferredLoginDevice', 'CityTier',\n",
            "       'WarehouseToHome', 'PreferredPaymentMode', 'Gender', 'HourSpendOnApp',\n",
            "       'NumberOfDeviceRegistered', 'PreferedOrderCat', 'SatisfactionScore',\n",
            "       'MaritalStatus', 'NumberOfAddress', 'Complain',\n",
            "       'OrderAmountHikeFromlastYear', 'CouponUsed', 'OrderCount',\n",
            "       'DaySinceLastOrder', 'CashbackAmount'],\n",
            "      dtype='object')\n",
            "\n",
            "Dropped column names:\n",
            "[]\n"
          ]
        }
      ],
      "source": [
        "# Initial Drop columns with a high percentage of missing values by defined theshold\n",
        "threshold = 0.7\n",
        "columns_to_drop = df.columns[df.isnull().mean() > threshold]\n",
        "df = df.drop(columns_to_drop, axis=1)\n",
        "\n",
        "# Print column names after dropping\n",
        "print(\"\\nColumn names after dropping:\")\n",
        "print(df.columns)\n",
        "\n",
        "# Print the dropped column names\n",
        "print(\"\\nDropped column names:\")\n",
        "dropped_columns = list(columns_to_drop)\n",
        "print(dropped_columns)"
      ]
    },
    {
      "cell_type": "code",
      "execution_count": null,
      "metadata": {
        "colab": {
          "base_uri": "https://localhost:8080/"
        },
        "id": "MFQpQxgSX1mg",
        "outputId": "6b98c365-36e4-4f91-eaf3-5ea4e9d99739"
      },
      "outputs": [
        {
          "output_type": "stream",
          "name": "stdout",
          "text": [
            "Total number of rows with null values: 1856\n",
            "Percentage of rows with null values: 32.97%\n"
          ]
        }
      ],
      "source": [
        "# Handle null\n",
        "# Count the total number of rows with null values\n",
        "total_null_rows = df.isnull().any(axis=1).sum()\n",
        "\n",
        "# Calculate the percentage of rows with null values\n",
        "null_percentage = (total_null_rows / df.shape[0]) * 100\n",
        "\n",
        "# Print the results\n",
        "print(\"Total number of rows with null values:\", total_null_rows)\n",
        "print(\"Percentage of rows with null values: {:.2f}%\".format(null_percentage))\n"
      ]
    },
    {
      "cell_type": "code",
      "execution_count": null,
      "metadata": {
        "colab": {
          "base_uri": "https://localhost:8080/"
        },
        "id": "8rN0szZrbxhR",
        "outputId": "78aeb9cd-daed-4486-ec18-39931782a0f7"
      },
      "outputs": [
        {
          "output_type": "stream",
          "name": "stdout",
          "text": [
            "Column 'Tenure':\n",
            "Null count: 264\n",
            "Null percentage: 4.69%\n",
            "\n",
            "Column 'WarehouseToHome':\n",
            "Null count: 251\n",
            "Null percentage: 4.46%\n",
            "\n",
            "Column 'HourSpendOnApp':\n",
            "Null count: 255\n",
            "Null percentage: 4.53%\n",
            "\n",
            "Column 'OrderAmountHikeFromlastYear':\n",
            "Null count: 265\n",
            "Null percentage: 4.71%\n",
            "\n",
            "Column 'CouponUsed':\n",
            "Null count: 256\n",
            "Null percentage: 4.55%\n",
            "\n",
            "Column 'OrderCount':\n",
            "Null count: 258\n",
            "Null percentage: 4.58%\n",
            "\n",
            "Column 'DaySinceLastOrder':\n",
            "Null count: 307\n",
            "Null percentage: 5.45%\n",
            "\n"
          ]
        }
      ],
      "source": [
        "# Identify columns with null values\n",
        "columns_with_null = df.columns[df.isnull().any()]\n",
        "\n",
        "# Iterate over columns with null values\n",
        "for column in columns_with_null:\n",
        "    # Count null values in the column\n",
        "    null_count = df[column].isnull().sum()\n",
        "    # Calculate percentage of null values\n",
        "    null_percentage = (null_count / df.shape[0]) * 100\n",
        "    # Print column name, null count, and null percentage\n",
        "    print(f\"Column '{column}':\")\n",
        "    print(f\"Null count: {null_count}\")\n",
        "    print(f\"Null percentage: {null_percentage:.2f}%\")\n",
        "    print()"
      ]
    },
    {
      "cell_type": "code",
      "execution_count": null,
      "metadata": {
        "colab": {
          "base_uri": "https://localhost:8080/"
        },
        "id": "abAWPxxGa_At",
        "outputId": "36da31de-34bf-4311-8c66-df64b3efdc1d"
      },
      "outputs": [
        {
          "output_type": "stream",
          "name": "stdout",
          "text": [
            "     CustomerID Churn  Tenure PreferredLoginDevice CityTier  WarehouseToHome  \\\n",
            "0         50001     1     4.0         Mobile Phone        3              6.0   \n",
            "3         50004     1     0.0                Phone        3             15.0   \n",
            "5         50006     1     0.0             Computer        1             22.0   \n",
            "11        50012     1    11.0         Mobile Phone        1              6.0   \n",
            "12        50013     1     0.0                Phone        1             11.0   \n",
            "...         ...   ...     ...                  ...      ...              ...   \n",
            "5624      55625     0     1.0         Mobile Phone        3             12.0   \n",
            "5625      55626     0    10.0             Computer        1             30.0   \n",
            "5627      55628     0     1.0         Mobile Phone        1             11.0   \n",
            "5628      55629     0    23.0             Computer        3              9.0   \n",
            "5629      55630     0     8.0         Mobile Phone        1             15.0   \n",
            "\n",
            "     PreferredPaymentMode  Gender  HourSpendOnApp  NumberOfDeviceRegistered  \\\n",
            "0              Debit Card  Female             3.0                         3   \n",
            "3              Debit Card    Male             2.0                         4   \n",
            "5              Debit Card  Female             3.0                         5   \n",
            "11             Debit Card    Male             3.0                         4   \n",
            "12                    COD    Male             2.0                         3   \n",
            "...                   ...     ...             ...                       ...   \n",
            "5624                  UPI  Female             2.0                         5   \n",
            "5625          Credit Card    Male             3.0                         2   \n",
            "5627           Debit Card    Male             3.0                         2   \n",
            "5628          Credit Card    Male             4.0                         5   \n",
            "5629          Credit Card    Male             3.0                         2   \n",
            "\n",
            "        PreferedOrderCat  SatisfactionScore MaritalStatus  NumberOfAddress  \\\n",
            "0     Laptop & Accessory                  2        Single                9   \n",
            "3     Laptop & Accessory                  5        Single                8   \n",
            "5           Mobile Phone                  5        Single                2   \n",
            "11               Fashion                  3        Single               10   \n",
            "12                Mobile                  3        Single                2   \n",
            "...                  ...                ...           ...              ...   \n",
            "5624        Mobile Phone                  3        Single                2   \n",
            "5625  Laptop & Accessory                  1       Married                6   \n",
            "5627  Laptop & Accessory                  4       Married                3   \n",
            "5628  Laptop & Accessory                  4       Married                4   \n",
            "5629  Laptop & Accessory                  3       Married                4   \n",
            "\n",
            "      Complain  OrderAmountHikeFromlastYear  CouponUsed  OrderCount  \\\n",
            "0            1                         11.0         1.0         1.0   \n",
            "3            0                         23.0         0.0         1.0   \n",
            "5            1                         22.0         4.0         6.0   \n",
            "11           1                         13.0         0.0         1.0   \n",
            "12           1                         13.0         2.0         2.0   \n",
            "...        ...                          ...         ...         ...   \n",
            "5624         0                         19.0         2.0         2.0   \n",
            "5625         0                         18.0         1.0         2.0   \n",
            "5627         1                         21.0         1.0         2.0   \n",
            "5628         0                         15.0         2.0         2.0   \n",
            "5629         0                         13.0         2.0         2.0   \n",
            "\n",
            "      DaySinceLastOrder  CashbackAmount  \n",
            "0                   5.0             160  \n",
            "3                   3.0             134  \n",
            "5                   7.0             139  \n",
            "11                  0.0             154  \n",
            "12                  2.0             134  \n",
            "...                 ...             ...  \n",
            "5624                1.0             155  \n",
            "5625                4.0             151  \n",
            "5627                4.0             186  \n",
            "5628                9.0             179  \n",
            "5629                3.0             169  \n",
            "\n",
            "[3774 rows x 20 columns]\n",
            "* Sum of null in columns * \n",
            "\n"
          ]
        },
        {
          "output_type": "execute_result",
          "data": {
            "text/plain": [
              "CustomerID                     0\n",
              "Churn                          0\n",
              "Tenure                         0\n",
              "PreferredLoginDevice           0\n",
              "CityTier                       0\n",
              "WarehouseToHome                0\n",
              "PreferredPaymentMode           0\n",
              "Gender                         0\n",
              "HourSpendOnApp                 0\n",
              "NumberOfDeviceRegistered       0\n",
              "PreferedOrderCat               0\n",
              "SatisfactionScore              0\n",
              "MaritalStatus                  0\n",
              "NumberOfAddress                0\n",
              "Complain                       0\n",
              "OrderAmountHikeFromlastYear    0\n",
              "CouponUsed                     0\n",
              "OrderCount                     0\n",
              "DaySinceLastOrder              0\n",
              "CashbackAmount                 0\n",
              "dtype: int64"
            ]
          },
          "metadata": {},
          "execution_count": 20
        }
      ],
      "source": [
        "# Drop rows with null values\n",
        "df.dropna(inplace=True)\n",
        "\n",
        "# Print the updated DataFrame\n",
        "print(df)\n",
        "\n",
        "# Recheck number of null\n",
        "print('* Sum of null in columns * \\n')\n",
        "df.isna().sum()"
      ]
    },
    {
      "cell_type": "code",
      "source": [
        "# Check for duplicate rows\n",
        "duplicate_rows = df[df.duplicated()]\n",
        "\n",
        "# Print the columns name that have duplicated and print that duplicate row\n",
        "for row in duplicate_rows.itertuples():\n",
        "    print(row[1:])\n",
        "\n",
        "# Remove the duplicate row\n",
        "df = df.drop_duplicates()\n",
        "\n",
        "# Recheck the duplicate data again\n",
        "duplicate_rows = df[df.duplicated()]\n",
        "\n",
        "if len(duplicate_rows) == 0:\n",
        "    print('There are no duplicate rows')\n",
        "else:\n",
        "    print('There are still duplicate rows')"
      ],
      "metadata": {
        "colab": {
          "base_uri": "https://localhost:8080/"
        },
        "id": "OwXYF36SFC1o",
        "outputId": "e26076ee-9d76-4641-9cf3-444b4f67615b"
      },
      "execution_count": null,
      "outputs": [
        {
          "output_type": "stream",
          "name": "stdout",
          "text": [
            "There are no duplicate rows\n"
          ]
        }
      ]
    },
    {
      "cell_type": "code",
      "source": [
        "# Specify the columns where outliers need to be removed\n",
        "columns_with_outliers = ['Tenure', 'WarehouseToHome', 'HourSpendOnApp', 'OrderAmountHikeFromlastYear', 'CouponUsed', 'OrderCount', 'DaySinceLastOrder', 'CashbackAmount']\n",
        "\n",
        "# Calculate and print information about outliers\n",
        "print(\"Columns with outlier data:\")\n",
        "for column in columns_with_outliers:\n",
        "    Q1 = df[column].quantile(0.25)\n",
        "    Q3 = df[column].quantile(0.75)\n",
        "    IQR = Q3 - Q1\n",
        "    lower_bound = Q1 - 1.5 * IQR\n",
        "    upper_bound = Q3 + 1.5 * IQR\n",
        "\n",
        "    outliers_percentage = (df[(df[column] < lower_bound) | (df[column] > upper_bound)][column].count() / len(df)) * 100\n",
        "\n",
        "    print(f\"{column}: Outliers {outliers_percentage:.2f}%\")\n",
        "\n"
      ],
      "metadata": {
        "colab": {
          "base_uri": "https://localhost:8080/"
        },
        "id": "6IcCb9UKGst2",
        "outputId": "fcd57d94-b096-4cdb-959b-88efa5b62a77"
      },
      "execution_count": null,
      "outputs": [
        {
          "output_type": "stream",
          "name": "stdout",
          "text": [
            "Columns with outlier data:\n",
            "Tenure: Outliers 0.05%\n",
            "WarehouseToHome: Outliers 0.05%\n",
            "HourSpendOnApp: Outliers 0.11%\n",
            "OrderAmountHikeFromlastYear: Outliers 0.61%\n",
            "CouponUsed: Outliers 10.52%\n",
            "OrderCount: Outliers 11.18%\n",
            "DaySinceLastOrder: Outliers 0.61%\n",
            "CashbackAmount: Outliers 1.09%\n"
          ]
        }
      ]
    },
    {
      "cell_type": "code",
      "execution_count": null,
      "metadata": {
        "id": "7qEbv-Thab0C"
      },
      "outputs": [],
      "source": [
        "## OPTIONAL\n",
        "# Save the cleaned data to a new file\n",
        "df.to_csv('cleaned_data.csv', index=False)"
      ]
    },
    {
      "cell_type": "markdown",
      "source": [
        "# Data Processing"
      ],
      "metadata": {
        "id": "9zwxuWqFBEFy"
      }
    },
    {
      "cell_type": "code",
      "source": [
        "df = pd.read_csv('cleaned_data.csv')\n",
        "\n",
        "# Get the categorical columns\n",
        "categorical_columns = [column for column in df.columns if df[column].dtype == 'object']\n",
        "\n",
        "# One-hot encode the categorical columns\n",
        "cat_data = pd.get_dummies(df[categorical_columns])\n",
        "\n",
        "# Print the resulting cat_data DataFrame\n",
        "print(cat_data)"
      ],
      "metadata": {
        "id": "XpG4Cfp8YXP4"
      },
      "execution_count": null,
      "outputs": []
    },
    {
      "cell_type": "code",
      "source": [
        "# Split the data into X and y\n",
        "X = pd.concat([df[['Tenure', 'WarehouseToHome','HourSpendOnApp','NumberOfDeviceRegistered',\n",
        "                   'SatisfactionScore','NumberOfAddress','Complain','OrderAmountHikeFromlastYear',\n",
        "                   'CouponUsed','OrderCount','DaySinceLastOrder','CashbackAmount']], cat_data], axis=1)\n",
        "y = df['Churn']\n"
      ],
      "metadata": {
        "id": "Fo4MEl0jY3ZO"
      },
      "execution_count": null,
      "outputs": []
    },
    {
      "cell_type": "markdown",
      "source": [
        "# Model Creation and Evaluation"
      ],
      "metadata": {
        "id": "YkNQyTTEcVpR"
      }
    },
    {
      "cell_type": "code",
      "source": [
        "# models\n",
        "from sklearn.linear_model import LogisticRegression\n",
        "from sklearn.neighbors import KNeighborsClassifier\n",
        "from sklearn.ensemble import RandomForestClassifier\n",
        "\n",
        "# model selection and evaluation\n",
        "from sklearn.model_selection import train_test_split\n",
        "from sklearn.metrics import confusion_matrix, classification_report\n",
        "from sklearn.metrics import precision_score, recall_score, f1_score, roc_auc_score, accuracy_score, classification_report, roc_curve, auc"
      ],
      "metadata": {
        "id": "QxVWMtZAcXZD"
      },
      "execution_count": null,
      "outputs": []
    },
    {
      "cell_type": "code",
      "source": [
        "# In this case, 40% of the data will be used for testing, while the remaining 60% will be used for training.\n",
        "# random_state number can be any number\n",
        "\n",
        "X_train, X_test, y_train, y_test = train_test_split(X, y, test_size=0.40, random_state=42)"
      ],
      "metadata": {
        "id": "LbMT6-DfoYrf"
      },
      "execution_count": null,
      "outputs": []
    },
    {
      "cell_type": "code",
      "source": [
        "# split tran/test with stratify (keep the same proportion)\n",
        "\n",
        "X_train, X_test, y_train, y_test = train_test_split(X, y, test_size=0.40, random_state=42, stratify=y)"
      ],
      "metadata": {
        "id": "YMc6Vtw6XdIB"
      },
      "execution_count": null,
      "outputs": []
    },
    {
      "cell_type": "code",
      "source": [
        "#Create Generic function to fit data and display results/predictions\n",
        "#clf is classifier\n",
        "\n",
        "def fit_evaluate(clf, X_train, X_test, y_train, y_test):\n",
        "    # .fit is to create model to training data\n",
        "    clf.fit(X_train, y_train)\n",
        "\n",
        "    # make predictions for train data\n",
        "    y_pred_train = clf.predict(X_train)\n",
        "\n",
        "    # make predictions for test data\n",
        "    y_pred_test = clf.predict(X_test)\n",
        "\n",
        "    # print evaluation\n",
        "    print(classification_report(y_test, y_pred_test))\n",
        "    # /n is for print as a new line\n",
        "    print('\\nConfusion Matrix: \\n')\n",
        "    s = sns.heatmap(confusion_matrix(y_test, y_pred_test), annot=True, fmt='g', cmap='YlGnBu');\n",
        "    s.set(xlabel='Predicted class', ylabel='True class')\n",
        "    plt.show()\n",
        "\n",
        "    #fpr stand for for positive rate for AUC\n",
        "    #:.2f is for 2 digit decimal\n",
        "    fpr_train, tpr_train, _ = roc_curve(y_pred_train,  y_train)\n",
        "    auc_train = roc_auc_score(y_pred_train, y_train)\n",
        "    plt.plot(fpr_train,tpr_train, color='Blue', label='train: auc='+f'{auc_train:.2f}')\n",
        "\n",
        "    fpr_test, tpr_test, _ = roc_curve(y_pred_test,  y_test)\n",
        "    auc_test = roc_auc_score(y_pred_test, y_test)\n",
        "    plt.plot(fpr_test,tpr_test, color='Red', label='test: auc='+f'{auc_test:.2f}')\n",
        "    plt.plot([0, 1], [0, 1], color='navy', lw=2, linestyle='--')\n",
        "    plt.legend(loc=4)\n",
        "    plt.show()"
      ],
      "metadata": {
        "id": "D-jJtOLqoJLQ"
      },
      "execution_count": null,
      "outputs": []
    },
    {
      "cell_type": "code",
      "source": [
        "modelLR = LogisticRegression()\n",
        "print('* Logistic regression * \\n')\n",
        "fit_evaluate(modelLR, X_train, X_test, y_train, y_test)"
      ],
      "metadata": {
        "id": "W3EtI6HxoS80"
      },
      "execution_count": null,
      "outputs": []
    },
    {
      "cell_type": "code",
      "source": [
        "modelRF = RandomForestClassifier()\n",
        "print('* Random Forest Classifier * \\n')\n",
        "fit_evaluate(modelRF, X_train, X_test, y_train, y_test)"
      ],
      "metadata": {
        "id": "FxgnOe7dooZw"
      },
      "execution_count": null,
      "outputs": []
    },
    {
      "cell_type": "code",
      "source": [
        "modelKNN = KNeighborsClassifier()\n",
        "print('* K Nearest Neighbors Classifier * \\n')\n",
        "fit_evaluate(modelKNN, X_train, X_test, y_train, y_test)"
      ],
      "metadata": {
        "id": "D2JKiUV7o28m"
      },
      "execution_count": null,
      "outputs": []
    },
    {
      "cell_type": "markdown",
      "source": [
        "# SMOTE"
      ],
      "metadata": {
        "id": "W-JJ1OlzpVEd"
      }
    },
    {
      "cell_type": "code",
      "source": [
        "from imblearn.over_sampling import SMOTE\n",
        "\n",
        "sm = SMOTE(random_state=0)\n",
        "\n",
        "sm.fit(X_train, y_train)\n",
        "X_train_SMOTE, y_train_SMOTE = sm.fit_resample(X_train, y_train)"
      ],
      "metadata": {
        "id": "0LVHexw1pUSp"
      },
      "execution_count": null,
      "outputs": []
    },
    {
      "cell_type": "code",
      "source": [
        "modelLR = LogisticRegression()\n",
        "print('* SMOTE and Logistic regression * \\n')\n",
        "fit_evaluate(modelLR, X_train_SMOTE, X_test, y_train_SMOTE, y_test)"
      ],
      "metadata": {
        "id": "0V2knPaap7FK"
      },
      "execution_count": null,
      "outputs": []
    },
    {
      "cell_type": "code",
      "source": [
        "modelRF = RandomForestClassifier()\n",
        "print('* SMOTE and Random Forest Classifier * \\n')\n",
        "fit_evaluate(modelRF, X_train_SMOTE, X_test, y_train_SMOTE, y_test)"
      ],
      "metadata": {
        "id": "MxIuychGp_zf"
      },
      "execution_count": null,
      "outputs": []
    },
    {
      "cell_type": "code",
      "source": [
        "modelKNN = KNeighborsClassifier()\n",
        "print('* SMOTE and K Nearest Neighbors Classifier * \\n')\n",
        "fit_evaluate(modelKNN, X_train_SMOTE, X_test, y_train_SMOTE, y_test)"
      ],
      "metadata": {
        "id": "iPi_i5ZxqL_n"
      },
      "execution_count": null,
      "outputs": []
    },
    {
      "cell_type": "code",
      "source": [
        "import xgboost as xgb\n",
        "\n",
        "modelXGB = xgb.XGBClassifier(objective='binary:logistic', eval_metric=\"auc\")\n",
        "print('* SMOTE and XGBoost Classifier * \\n')\n",
        "fit_evaluate(modelXGB, X_train_SMOTE, X_test, y_train_SMOTE, y_test)"
      ],
      "metadata": {
        "id": "WIqb_nIliBOK"
      },
      "execution_count": null,
      "outputs": []
    },
    {
      "cell_type": "markdown",
      "source": [
        "XGBoost - Hyperparameter Tuning"
      ],
      "metadata": {
        "id": "L3WENF5NiQN5"
      }
    },
    {
      "cell_type": "code",
      "source": [
        "## building pipeline for hyperparameter tuning\n",
        "\n",
        "from sklearn.pipeline import Pipeline\n",
        "from sklearn.feature_selection import SelectKBest, chi2\n",
        "\n",
        "# Create a pipeline\n",
        "pipe = Pipeline([\n",
        "  ('fs', SelectKBest()),\n",
        "  ('clf', xgb.XGBClassifier(objective='binary:logistic', scale_pos_weight=9))\n",
        "])"
      ],
      "metadata": {
        "id": "oOmI1REyiREi"
      },
      "execution_count": null,
      "outputs": []
    },
    {
      "cell_type": "code",
      "source": [
        "## hyper parameter tuning - grid search\n",
        "\n",
        "from sklearn.model_selection import KFold, GridSearchCV\n",
        "from sklearn.metrics import accuracy_score, make_scorer\n",
        "# Define our search space for grid search\n",
        "search_space = [\n",
        "  {\n",
        "    'clf__n_estimators': [50, 100, 150, 200],\n",
        "    'clf__learning_rate': [0.01, 0.1],\n",
        "    'clf__max_depth': range(2, 4),\n",
        "    'clf__colsample_bytree': [i/10.0 for i in range(2, 5)],\n",
        "    'clf__gamma': [i/10.0 for i in range(3)],\n",
        "    'fs__score_func': [chi2],\n",
        "    'fs__k': [2],\n",
        "  }\n",
        "]\n",
        "# Define cross validation\n",
        "kfold = KFold(n_splits=5)\n",
        "# AUC and accuracy as score\n",
        "scoring = {'AUC':'roc_auc', 'Accuracy':make_scorer(accuracy_score), 'F1 score': 'f1_micro'}\n",
        "# Define grid search\n",
        "grid = GridSearchCV(\n",
        "  pipe,\n",
        "  param_grid=search_space,\n",
        "  cv=kfold,\n",
        "  scoring=scoring,\n",
        "  refit='AUC',\n",
        "  verbose=1,\n",
        "  n_jobs=-1\n",
        ")\n",
        "\n",
        "# Fit grid search\n",
        "xgb_model_clv_GS = grid.fit(X_train, y_train)"
      ],
      "metadata": {
        "id": "_mFcue-1iXdw",
        "colab": {
          "base_uri": "https://localhost:8080/"
        },
        "outputId": "8ce4f329-153b-4855-8195-41aa997dfa18"
      },
      "execution_count": null,
      "outputs": [
        {
          "output_type": "stream",
          "name": "stdout",
          "text": [
            "Fitting 5 folds for each of 144 candidates, totalling 720 fits\n"
          ]
        }
      ]
    },
    {
      "cell_type": "code",
      "source": [
        "print(xgb_model_clv_GS.best_params_)"
      ],
      "metadata": {
        "id": "gWBFpQqeiZdt",
        "colab": {
          "base_uri": "https://localhost:8080/"
        },
        "outputId": "acd76b43-e97f-46f0-e47c-409498c7aa07"
      },
      "execution_count": null,
      "outputs": [
        {
          "output_type": "stream",
          "name": "stdout",
          "text": [
            "{'clf__colsample_bytree': 0.2, 'clf__gamma': 0.0, 'clf__learning_rate': 0.1, 'clf__max_depth': 2, 'clf__n_estimators': 100, 'fs__k': 2, 'fs__score_func': <function chi2 at 0x78d1a7336710>}\n"
          ]
        }
      ]
    },
    {
      "cell_type": "code",
      "source": [
        "modelXGB = xgb.XGBClassifier(\n",
        " learning_rate =0.01,\n",
        " n_estimators=100,\n",
        " max_depth=2,\n",
        " min_child_weight=1,\n",
        " gamma=0,\n",
        " subsample=0.8,\n",
        " colsample_bytree=0.4,\n",
        " objective= 'binary:logistic',\n",
        " eval_metric=\"auc\")\n",
        "print('* SMOTE and XGBoost Classifier Tuned* \\n')\n",
        "fit_evaluate(modelXGB, X_train, X_test, y_train, y_test)"
      ],
      "metadata": {
        "id": "loKywMP-ibhS"
      },
      "execution_count": null,
      "outputs": []
    },
    {
      "cell_type": "markdown",
      "source": [
        "# Oversampling"
      ],
      "metadata": {
        "id": "lFBrJlSiqaOj"
      }
    },
    {
      "cell_type": "code",
      "source": [
        "from imblearn.over_sampling import RandomOverSampler\n",
        "\n",
        "ros = RandomOverSampler(random_state=0)\n",
        "ros.fit(X_train, y_train)\n",
        "X_oversampled, y_oversampled = ros.fit_resample(X_train, y_train)"
      ],
      "metadata": {
        "id": "1tkKjdJZqdIv"
      },
      "execution_count": null,
      "outputs": []
    },
    {
      "cell_type": "code",
      "source": [
        "modelLR = LogisticRegression()\n",
        "print('* Oversampling and Logistic regression * \\n')\n",
        "fit_evaluate(modelLR, X_oversampled, X_test, y_oversampled, y_test)"
      ],
      "metadata": {
        "id": "NwGlHkjcb4TW"
      },
      "execution_count": null,
      "outputs": []
    },
    {
      "cell_type": "code",
      "source": [
        "modelRF = RandomForestClassifier()\n",
        "print('* Oversampling and Random Forest Classifier * \\n')\n",
        "fit_evaluate(modelRF, X_oversampled, X_test, y_oversampled, y_test)"
      ],
      "metadata": {
        "id": "NlJysw04clKA"
      },
      "execution_count": null,
      "outputs": []
    },
    {
      "cell_type": "code",
      "source": [
        "modelKNN = KNeighborsClassifier()\n",
        "print('* Opversampling and K Nearest Neighbors Classifier * \\n')\n",
        "fit_evaluate(modelKNN,  X_oversampled, X_test, y_oversampled, y_test)"
      ],
      "metadata": {
        "id": "Lt_q_9MFckyy"
      },
      "execution_count": null,
      "outputs": []
    },
    {
      "cell_type": "code",
      "source": [
        "import xgboost as xgb\n",
        "\n",
        "modelXGB = xgb.XGBClassifier(objective='binary:logistic', eval_metric=\"auc\")\n",
        "print('* Oversampling and XGBoost Classifier * \\n')\n",
        "fit_evaluate(modelXGB,  X_oversampled, X_test, y_oversampled, y_test)"
      ],
      "metadata": {
        "id": "AHERnakvigZY",
        "colab": {
          "base_uri": "https://localhost:8080/",
          "height": 1000
        },
        "outputId": "641cae52-dedf-4105-86da-6c1811ec831e"
      },
      "execution_count": null,
      "outputs": [
        {
          "output_type": "stream",
          "name": "stdout",
          "text": [
            "* Oversampling and XGBoost Classifier * \n",
            "\n",
            "              precision    recall  f1-score   support\n",
            "\n",
            "           0       0.97      0.97      0.97      1258\n",
            "           1       0.86      0.86      0.86       252\n",
            "\n",
            "    accuracy                           0.95      1510\n",
            "   macro avg       0.92      0.92      0.92      1510\n",
            "weighted avg       0.95      0.95      0.95      1510\n",
            "\n",
            "\n",
            "Confusion Matrix: \n",
            "\n"
          ]
        },
        {
          "output_type": "display_data",
          "data": {
            "text/plain": [
              "<Figure size 640x480 with 2 Axes>"
            ],
            "image/png": "[encoded data removed]"
          },
          "metadata": {}
        },
        {
          "output_type": "display_data",
          "data": {
            "text/plain": [
              "<Figure size 640x480 with 1 Axes>"
            ],
            "image/png": "[encoded data removed]"
          },
          "metadata": {}
        }
      ]
    },
    {
      "cell_type": "markdown",
      "source": [
        "XGBoost - Hyperparameter Tuning"
      ],
      "metadata": {
        "id": "WlfZYO7oj58W"
      }
    },
    {
      "cell_type": "code",
      "source": [
        "## building pipeline for hyperparameter tuning\n",
        "\n",
        "from sklearn.pipeline import Pipeline\n",
        "from sklearn.feature_selection import SelectKBest, chi2\n",
        "\n",
        "# Create a pipeline\n",
        "pipe = Pipeline([\n",
        "  ('fs', SelectKBest()),\n",
        "  ('clf', xgb.XGBClassifier(objective='binary:logistic', scale_pos_weight=9))\n",
        "])"
      ],
      "metadata": {
        "id": "sPx8KmLMj58c"
      },
      "execution_count": null,
      "outputs": []
    },
    {
      "cell_type": "code",
      "source": [
        "## hyper parameter tuning - grid search\n",
        "\n",
        "from sklearn.model_selection import KFold, GridSearchCV\n",
        "from sklearn.metrics import accuracy_score, make_scorer\n",
        "# Define our search space for grid search\n",
        "search_space = [\n",
        "  {\n",
        "    'clf__n_estimators': [50, 100, 150, 200],\n",
        "    'clf__learning_rate': [0.01, 0.1],\n",
        "    'clf__max_depth': range(2, 4),\n",
        "    'clf__colsample_bytree': [i/10.0 for i in range(2, 5)],\n",
        "    'clf__gamma': [i/10.0 for i in range(3)],\n",
        "    'fs__score_func': [chi2],\n",
        "    'fs__k': [2],\n",
        "  }\n",
        "]\n",
        "# Define cross validation\n",
        "kfold = KFold(n_splits=5)\n",
        "# AUC and accuracy as score\n",
        "scoring = {'AUC':'roc_auc', 'Accuracy':make_scorer(accuracy_score), 'F1 score': 'f1_micro'}\n",
        "# Define grid search\n",
        "grid = GridSearchCV(\n",
        "  pipe,\n",
        "  param_grid=search_space,\n",
        "  cv=kfold,\n",
        "  scoring=scoring,\n",
        "  refit='AUC',\n",
        "  verbose=1,\n",
        "  n_jobs=-1\n",
        ")\n",
        "\n",
        "# Fit grid search\n",
        "xgb_model_clv_GS = grid.fit(X_train, y_train)"
      ],
      "metadata": {
        "id": "_vAz7q_4j58c",
        "colab": {
          "base_uri": "https://localhost:8080/"
        },
        "outputId": "06aea005-1516-49d7-a6e1-d40125c7ca88"
      },
      "execution_count": null,
      "outputs": [
        {
          "output_type": "stream",
          "name": "stdout",
          "text": [
            "Fitting 5 folds for each of 144 candidates, totalling 720 fits\n"
          ]
        }
      ]
    },
    {
      "cell_type": "code",
      "source": [
        "print(xgb_model_clv_GS.best_params_)"
      ],
      "metadata": {
        "id": "0MK-0gvoj58c",
        "colab": {
          "base_uri": "https://localhost:8080/"
        },
        "outputId": "1b1981a4-9b61-40c9-c2c6-d1ac7f01e84d"
      },
      "execution_count": null,
      "outputs": [
        {
          "output_type": "stream",
          "name": "stdout",
          "text": [
            "{'clf__colsample_bytree': 0.2, 'clf__gamma': 0.0, 'clf__learning_rate': 0.1, 'clf__max_depth': 2, 'clf__n_estimators': 100, 'fs__k': 2, 'fs__score_func': <function chi2 at 0x78d1a7336710>}\n"
          ]
        }
      ]
    },
    {
      "cell_type": "code",
      "source": [
        "modelXGB = xgb.XGBClassifier(\n",
        " learning_rate =0.01,\n",
        " n_estimators=100,\n",
        " max_depth=2,\n",
        " min_child_weight=1,\n",
        " gamma=0,\n",
        " subsample=0.8,\n",
        " colsample_bytree=0.4,\n",
        " objective= 'binary:logistic',\n",
        " eval_metric=\"auc\")\n",
        "print('* Oversapmling and XGBoost Classifier Tuned * \\n')\n",
        "fit_evaluate(modelXGB, X_train, X_test, y_train, y_test)"
      ],
      "metadata": {
        "id": "Uhx2cQIaj58c"
      },
      "execution_count": null,
      "outputs": []
    },
    {
      "cell_type": "markdown",
      "source": [
        "# Undersampling"
      ],
      "metadata": {
        "id": "im8ceM2rqdS7"
      }
    },
    {
      "cell_type": "code",
      "source": [
        "from imblearn.under_sampling import RandomUnderSampler\n",
        "\n",
        "rus = RandomUnderSampler(random_state=0)\n",
        "rus.fit(X_train, y_train)\n",
        "X_undersampled, y_undersampled = rus.fit_resample(X_train, y_train)"
      ],
      "metadata": {
        "id": "pV5FlgNJqegh"
      },
      "execution_count": null,
      "outputs": []
    },
    {
      "cell_type": "code",
      "source": [
        "modelLR = LogisticRegression()\n",
        "print('* Undersampling and Logistic regression * \\n')\n",
        "fit_evaluate(modelLR, X_undersampled, X_test, y_undersampled, y_test)"
      ],
      "metadata": {
        "id": "POz3rbprc9zf"
      },
      "execution_count": null,
      "outputs": []
    },
    {
      "cell_type": "code",
      "source": [
        "modelRF = RandomForestClassifier()\n",
        "print('* Undersampling and Random Forest Classifier * \\n')\n",
        "fit_evaluate(modelRF,X_undersampled, X_test, y_undersampled, y_test)"
      ],
      "metadata": {
        "id": "UF1d1Ib9dAlN"
      },
      "execution_count": null,
      "outputs": []
    },
    {
      "cell_type": "code",
      "source": [
        "modelKNN = KNeighborsClassifier()\n",
        "print('* Undersampling and K Nearest Neighbors Classifier * \\n')\n",
        "fit_evaluate(modelKNN, X_undersampled, X_test, y_undersampled, y_test)"
      ],
      "metadata": {
        "id": "tnPkYg62dCcH"
      },
      "execution_count": null,
      "outputs": []
    },
    {
      "cell_type": "code",
      "source": [
        "import xgboost as xgb\n",
        "\n",
        "modelXGB = xgb.XGBClassifier(objective='binary:logistic', eval_metric=\"auc\")\n",
        "print('* Undersampling and XGBoost Classifier * \\n')\n",
        "fit_evaluate(modelXGB, X_undersampled, X_test, y_undersampled, y_test)"
      ],
      "metadata": {
        "id": "wp4AhxIZiswB"
      },
      "execution_count": null,
      "outputs": []
    },
    {
      "cell_type": "markdown",
      "source": [
        "XGBoost - Hyperparameter Tuning"
      ],
      "metadata": {
        "id": "quFo0y9KkAJc"
      }
    },
    {
      "cell_type": "code",
      "source": [
        "## building pipeline for hyperparameter tuning\n",
        "\n",
        "from sklearn.pipeline import Pipeline\n",
        "from sklearn.feature_selection import SelectKBest, chi2\n",
        "\n",
        "# Create a pipeline\n",
        "pipe = Pipeline([\n",
        "  ('fs', SelectKBest()),\n",
        "  ('clf', xgb.XGBClassifier(objective='binary:logistic', scale_pos_weight=9))\n",
        "])"
      ],
      "metadata": {
        "id": "CDTAon4wkAJc"
      },
      "execution_count": null,
      "outputs": []
    },
    {
      "cell_type": "code",
      "source": [
        "## hyper parameter tuning - grid search\n",
        "\n",
        "from sklearn.model_selection import KFold, GridSearchCV\n",
        "from sklearn.metrics import accuracy_score, make_scorer\n",
        "# Define our search space for grid search\n",
        "search_space = [\n",
        "  {\n",
        "    'clf__n_estimators': [50, 100, 150, 200],\n",
        "    'clf__learning_rate': [0.01, 0.1],\n",
        "    'clf__max_depth': range(2, 4),\n",
        "    'clf__colsample_bytree': [i/10.0 for i in range(2, 5)],\n",
        "    'clf__gamma': [i/10.0 for i in range(3)],\n",
        "    'fs__score_func': [chi2],\n",
        "    'fs__k': [2],\n",
        "  }\n",
        "]\n",
        "# Define cross validation\n",
        "kfold = KFold(n_splits=5)\n",
        "# AUC and accuracy as score\n",
        "scoring = {'AUC':'roc_auc', 'Accuracy':make_scorer(accuracy_score), 'F1 score': 'f1_micro'}\n",
        "# Define grid search\n",
        "grid = GridSearchCV(\n",
        "  pipe,\n",
        "  param_grid=search_space,\n",
        "  cv=kfold,\n",
        "  scoring=scoring,\n",
        "  refit='AUC',\n",
        "  verbose=1,\n",
        "  n_jobs=-1\n",
        ")\n",
        "\n",
        "# Fit grid search\n",
        "xgb_model_clv_GS = grid.fit(X_train, y_train)"
      ],
      "metadata": {
        "colab": {
          "base_uri": "https://localhost:8080/"
        },
        "id": "gniDBOuskAJc",
        "outputId": "d0e180ec-a9e3-42f6-c549-a285a46a9d9a"
      },
      "execution_count": null,
      "outputs": [
        {
          "output_type": "stream",
          "name": "stdout",
          "text": [
            "Fitting 5 folds for each of 144 candidates, totalling 720 fits\n"
          ]
        }
      ]
    },
    {
      "cell_type": "code",
      "source": [
        "print(xgb_model_clv_GS.best_params_)"
      ],
      "metadata": {
        "colab": {
          "base_uri": "https://localhost:8080/"
        },
        "id": "7wAcnnKGkAJd",
        "outputId": "3b701300-4f7f-4a04-cb4d-d8b380b4f2d8"
      },
      "execution_count": null,
      "outputs": [
        {
          "output_type": "stream",
          "name": "stdout",
          "text": [
            "{'clf__colsample_bytree': 0.2, 'clf__gamma': 0.0, 'clf__learning_rate': 0.1, 'clf__max_depth': 2, 'clf__n_estimators': 100, 'fs__k': 2, 'fs__score_func': <function chi2 at 0x78d1a7336710>}\n"
          ]
        }
      ]
    },
    {
      "cell_type": "code",
      "source": [
        "modelXGB = xgb.XGBClassifier(\n",
        " learning_rate =0.01,\n",
        " n_estimators=100,\n",
        " max_depth=2,\n",
        " min_child_weight=1,\n",
        " gamma=0,\n",
        " subsample=0.8,\n",
        " colsample_bytree=0.4,\n",
        " objective= 'binary:logistic',\n",
        " eval_metric=\"auc\")\n",
        "print('* Undersampling and XGBoost Classifier Tuned* \\n')\n",
        "fit_evaluate(modelXGB, X_train, X_test, y_train, y_test)"
      ],
      "metadata": {
        "id": "iAPjVnYFkAJd"
      },
      "execution_count": null,
      "outputs": []
    },
    {
      "cell_type": "markdown",
      "source": [
        "# XGBoost"
      ],
      "metadata": {
        "id": "xwAh296Cqe_t"
      }
    },
    {
      "cell_type": "code",
      "source": [
        "import xgboost as xgb\n",
        "\n",
        "modelXGB = xgb.XGBClassifier(objective='binary:logistic', eval_metric=\"auc\")\n",
        "print('* XGBoost Classifier * \\n')\n",
        "fit_evaluate(modelXGB, X_train, X_test, y_train, y_test)"
      ],
      "metadata": {
        "id": "GimrRoqsrQTE",
        "colab": {
          "base_uri": "https://localhost:8080/",
          "height": 1000
        },
        "outputId": "b0fd7f60-fde2-4cf7-fa71-d54b5b3573eb"
      },
      "execution_count": null,
      "outputs": [
        {
          "output_type": "stream",
          "name": "stdout",
          "text": [
            "* XGBoost Classifier * \n",
            "\n",
            "              precision    recall  f1-score   support\n",
            "\n",
            "           0       0.97      0.98      0.98      1258\n",
            "           1       0.90      0.85      0.88       252\n",
            "\n",
            "    accuracy                           0.96      1510\n",
            "   macro avg       0.94      0.92      0.93      1510\n",
            "weighted avg       0.96      0.96      0.96      1510\n",
            "\n",
            "\n",
            "Confusion Matrix: \n",
            "\n"
          ]
        },
        {
          "output_type": "display_data",
          "data": {
            "text/plain": [
              "<Figure size 640x480 with 2 Axes>"
            ],
            "image/png": "[encoded data removed]"
          },
          "metadata": {}
        },
        {
          "output_type": "display_data",
          "data": {
            "text/plain": [
              "<Figure size 640x480 with 1 Axes>"
            ],
            "image/png": "[encoded data removed]"
          },
          "metadata": {}
        }
      ]
    },
    {
      "cell_type": "markdown",
      "source": [
        "XGBoost - Hyperparameter Tuning"
      ],
      "metadata": {
        "id": "fPH4h0nOvxpm"
      }
    },
    {
      "cell_type": "code",
      "source": [
        "## building pipeline for hyperparameter tuning\n",
        "\n",
        "from sklearn.pipeline import Pipeline\n",
        "from sklearn.feature_selection import SelectKBest, chi2\n",
        "\n",
        "# Create a pipeline\n",
        "pipe = Pipeline([\n",
        "  ('fs', SelectKBest()),\n",
        "  ('clf', xgb.XGBClassifier(objective='binary:logistic', scale_pos_weight=9))\n",
        "])"
      ],
      "metadata": {
        "id": "SOLwZu8aveRV"
      },
      "execution_count": null,
      "outputs": []
    },
    {
      "cell_type": "code",
      "source": [
        "## hyper parameter tuning - grid search\n",
        "\n",
        "from sklearn.model_selection import KFold, GridSearchCV\n",
        "from sklearn.metrics import accuracy_score, make_scorer\n",
        "# Define our search space for grid search\n",
        "search_space = [\n",
        "  {\n",
        "    'clf__n_estimators': [50, 100, 150, 200],\n",
        "    'clf__learning_rate': [0.01, 0.1],\n",
        "    'clf__max_depth': range(2, 4),\n",
        "    'clf__colsample_bytree': [i/10.0 for i in range(2, 5)],\n",
        "    'clf__gamma': [i/10.0 for i in range(3)],\n",
        "    'fs__score_func': [chi2],\n",
        "    'fs__k': [2],\n",
        "  }\n",
        "]\n",
        "# Define cross validation\n",
        "kfold = KFold(n_splits=5)\n",
        "# AUC and accuracy as score\n",
        "scoring = {'AUC':'roc_auc', 'Accuracy':make_scorer(accuracy_score), 'F1 score': 'f1_micro'}\n",
        "# Define grid search\n",
        "grid = GridSearchCV(\n",
        "  pipe,\n",
        "  param_grid=search_space,\n",
        "  cv=kfold,\n",
        "  scoring=scoring,\n",
        "  refit='AUC',\n",
        "  verbose=1,\n",
        "  n_jobs=-1\n",
        ")\n",
        "\n",
        "# Fit grid search\n",
        "xgb_model_clv_GS = grid.fit(X_train, y_train)"
      ],
      "metadata": {
        "colab": {
          "base_uri": "https://localhost:8080/"
        },
        "id": "RcZ1UAYHvgMU",
        "outputId": "b2e24c9f-3550-4efd-9476-7362249e98e1"
      },
      "execution_count": null,
      "outputs": [
        {
          "output_type": "stream",
          "name": "stdout",
          "text": [
            "Fitting 5 folds for each of 144 candidates, totalling 720 fits\n"
          ]
        }
      ]
    },
    {
      "cell_type": "code",
      "source": [
        "print(xgb_model_clv_GS.best_params_)"
      ],
      "metadata": {
        "id": "vVD0E46fv-hj"
      },
      "execution_count": null,
      "outputs": []
    },
    {
      "cell_type": "code",
      "source": [
        "modelXGB = xgb.XGBClassifier(\n",
        " learning_rate =0.01,\n",
        " n_estimators=100,\n",
        " max_depth=2,\n",
        " min_child_weight=1,\n",
        " gamma=0,\n",
        " subsample=0.8,\n",
        " colsample_bytree=0.4,\n",
        " objective= 'binary:logistic',\n",
        " eval_metric=\"auc\")\n",
        "print('* XGBoost Classifier Tuned * \\n')\n",
        "fit_evaluate(modelXGB, X_train, X_test, y_train, y_test)"
      ],
      "metadata": {
        "id": "uhZ5R99ExlLz"
      },
      "execution_count": null,
      "outputs": []
    },
    {
      "cell_type": "markdown",
      "source": [
        "#Feature Importance from Tree-Based Models"
      ],
      "metadata": {
        "id": "rOzv-sfnUCBY"
      }
    },
    {
      "cell_type": "markdown",
      "source": [
        "The selected model: * Oversampling and XGBoost Classifier *\n",
        "\n"
      ],
      "metadata": {
        "id": "4P2B3qu5WA97"
      }
    },
    {
      "cell_type": "code",
      "source": [
        "from imblearn.over_sampling import RandomOverSampler\n",
        "\n",
        "ros = RandomOverSampler(random_state=0)\n",
        "ros.fit(X_train, y_train)\n",
        "X_oversampled, y_oversampled = ros.fit_resample(X_train, y_train)\n",
        "\n",
        "import xgboost as xgb\n",
        "\n",
        "modelXGB = xgb.XGBClassifier(objective='binary:logistic', eval_metric=\"auc\")\n",
        "print('* Oversampling and XGBoost Classifier * \\n')\n",
        "fit_evaluate(modelXGB,  X_oversampled, X_test, y_oversampled, y_test)"
      ],
      "metadata": {
        "id": "ASH9EXubV9E1"
      },
      "execution_count": null,
      "outputs": []
    },
    {
      "cell_type": "code",
      "source": [
        "# Train the XGBoost model\n",
        "modelXGB = xgb.XGBClassifier(objective='binary:logistic', eval_metric=\"auc\")\n",
        "modelXGB.fit(X_oversampled, y_oversampled)\n",
        "\n",
        "# Extract and visualize feature importance\n",
        "feature_important = modelXGB.get_booster().get_score(importance_type='weight')\n",
        "keys = list(feature_important.keys())\n",
        "values = list(feature_important.values())\n",
        "\n",
        "data = pd.DataFrame(data=values, index=keys, columns=[\"score\"]).sort_values(by=\"score\", ascending=False)\n",
        "data.nlargest(10, columns=\"score\").plot(kind='barh', figsize=(20, 10))  # Plot top 10 features\n",
        "\n",
        "plt.xlabel('Feature Importance Score')\n",
        "plt.ylabel('Feature')\n",
        "plt.title('Top 10 Feature Importance from XGBoost Model')\n",
        "plt.show()"
      ],
      "metadata": {
        "colab": {
          "base_uri": "https://localhost:8080/",
          "height": 467
        },
        "id": "a5bGezFNf_ui",
        "outputId": "a49f5377-2f0d-496b-ac87-56055be7f9a1"
      },
      "execution_count": null,
      "outputs": [
        {
          "output_type": "display_data",
          "data": {
            "text/plain": [
              "<Figure size 2000x1000 with 1 Axes>"
            ],
            "image/png": "[encoded data removed]"
          },
          "metadata": {}
        }
      ]
    }
  ]
}